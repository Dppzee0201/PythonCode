{
 "cells": [
  {
   "cell_type": "code",
   "execution_count": 1,
   "id": "e9ec6f06-8dba-426f-bc0c-929170b40e49",
   "metadata": {},
   "outputs": [
    {
     "name": "stdout",
     "output_type": "stream",
     "text": [
      "HElllo\n"
     ]
    }
   ],
   "source": [
    "print('HElllo')"
   ]
  },
  {
   "cell_type": "code",
   "execution_count": 2,
   "id": "8bd0800c-f243-485f-a74b-d790710e3b3c",
   "metadata": {},
   "outputs": [],
   "source": [
    "list1=[123,'Python',343,5322,4,'Java',3,4]"
   ]
  },
  {
   "cell_type": "code",
   "execution_count": 3,
   "id": "d704a322-dbe1-463b-85ec-b9580371a3c4",
   "metadata": {},
   "outputs": [],
   "source": [
    "py_list=[232,4343,322,4333,5552]\n"
   ]
  },
  {
   "cell_type": "code",
   "execution_count": 4,
   "id": "8919b3a2-2346-4dbe-9fb5-2787422f67ab",
   "metadata": {},
   "outputs": [
    {
     "data": {
      "text/plain": [
       "list"
      ]
     },
     "execution_count": 4,
     "metadata": {},
     "output_type": "execute_result"
    }
   ],
   "source": [
    "type(py_list)"
   ]
  },
  {
   "cell_type": "code",
   "execution_count": 5,
   "id": "d2bba9ca-c0fb-408e-8b4c-cc96a83f9c23",
   "metadata": {},
   "outputs": [],
   "source": [
    "py_list.insert(3,\"Python\")"
   ]
  },
  {
   "cell_type": "code",
   "execution_count": 6,
   "id": "c9ec38d1-a8ee-43e7-8cb4-ef55bcd4738e",
   "metadata": {},
   "outputs": [
    {
     "data": {
      "text/plain": [
       "[232, 4343, 322, 'Python', 4333, 5552]"
      ]
     },
     "execution_count": 6,
     "metadata": {},
     "output_type": "execute_result"
    }
   ],
   "source": [
    "py_list"
   ]
  },
  {
   "cell_type": "code",
   "execution_count": 14,
   "id": "0d0c343f-0de1-4f29-8d00-1e30b89b9144",
   "metadata": {},
   "outputs": [],
   "source": [
    "py_list.append([2323,434,2323])"
   ]
  },
  {
   "cell_type": "code",
   "execution_count": null,
   "id": "f1f6c0e8-ca6e-4727-98f9-b21c75a619df",
   "metadata": {},
   "outputs": [],
   "source": []
  },
  {
   "cell_type": "code",
   "execution_count": null,
   "id": "51de6bc8-37db-468a-9693-0e3771c731dd",
   "metadata": {},
   "outputs": [],
   "source": []
  }
 ],
 "metadata": {
  "kernelspec": {
   "display_name": "Python 3 (ipykernel)",
   "language": "python",
   "name": "python3"
  },
  "language_info": {
   "codemirror_mode": {
    "name": "ipython",
    "version": 3
   },
   "file_extension": ".py",
   "mimetype": "text/x-python",
   "name": "python",
   "nbconvert_exporter": "python",
   "pygments_lexer": "ipython3",
   "version": "3.11.7"
  }
 },
 "nbformat": 4,
 "nbformat_minor": 5
}
