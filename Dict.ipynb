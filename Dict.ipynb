{
 "cells": [
  {
   "cell_type": "code",
   "execution_count": 2,
   "id": "0c16f94c-c58e-4b59-a109-450e5e60c3cc",
   "metadata": {},
   "outputs": [],
   "source": [
    "emp={'id':101,'name':'Deep','sal':75000}"
   ]
  },
  {
   "cell_type": "code",
   "execution_count": 7,
   "id": "f8f4d053-378d-4354-a6fe-6a969a5e5f67",
   "metadata": {},
   "outputs": [],
   "source": [
    "emp1={'id':101,'sal':75000}"
   ]
  },
  {
   "cell_type": "code",
   "execution_count": 8,
   "id": "6e35c3d4-c453-4093-b514-0052f097c132",
   "metadata": {},
   "outputs": [],
   "source": [
    "emp1.clear()"
   ]
  },
  {
   "cell_type": "code",
   "execution_count": 9,
   "id": "a4bf59fe-dd24-49a8-b3e4-511c868e2022",
   "metadata": {},
   "outputs": [
    {
     "data": {
      "text/plain": [
       "{}"
      ]
     },
     "execution_count": 9,
     "metadata": {},
     "output_type": "execute_result"
    }
   ],
   "source": [
    "emp1"
   ]
  },
  {
   "cell_type": "code",
   "execution_count": 10,
   "id": "e6f55bdc-d0fa-498e-9175-b657cda77dd8",
   "metadata": {},
   "outputs": [],
   "source": [
    "del emp1"
   ]
  },
  {
   "cell_type": "code",
   "execution_count": 12,
   "id": "1f3bb654-1bd1-443e-a16b-05320f326dab",
   "metadata": {},
   "outputs": [],
   "source": [
    "emp1=dict()"
   ]
  },
  {
   "cell_type": "code",
   "execution_count": 14,
   "id": "3c3a10dc-435f-46f1-85f7-cbb0af7e3855",
   "metadata": {},
   "outputs": [
    {
     "data": {
      "text/plain": [
       "dict"
      ]
     },
     "execution_count": 14,
     "metadata": {},
     "output_type": "execute_result"
    }
   ],
   "source": [
    "type(emp1)"
   ]
  },
  {
   "cell_type": "code",
   "execution_count": 18,
   "id": "b4bacb93-b5ba-461a-93c5-a17646e7e954",
   "metadata": {},
   "outputs": [],
   "source": [
    "emp1.update({'no':1,'name':'Hello','present':'true'})"
   ]
  },
  {
   "cell_type": "code",
   "execution_count": 19,
   "id": "18c042b8-304e-406f-979b-e4c19f73bcaf",
   "metadata": {},
   "outputs": [
    {
     "data": {
      "text/plain": [
       "{'no': 1, 'name': 'Hello', 'present': 'true'}"
      ]
     },
     "execution_count": 19,
     "metadata": {},
     "output_type": "execute_result"
    }
   ],
   "source": [
    "emp1"
   ]
  },
  {
   "cell_type": "code",
   "execution_count": 24,
   "id": "a26e6fe9-d448-494a-b927-de878dba21e6",
   "metadata": {},
   "outputs": [
    {
     "data": {
      "text/plain": [
       "1"
      ]
     },
     "execution_count": 24,
     "metadata": {},
     "output_type": "execute_result"
    }
   ],
   "source": [
    "emp1['no']"
   ]
  },
  {
   "cell_type": "code",
   "execution_count": 30,
   "id": "eeb7f139-cae5-423e-8959-0cd37b6c4f87",
   "metadata": {},
   "outputs": [],
   "source": [
    "emp1.update({'present':'true'})"
   ]
  },
  {
   "cell_type": "code",
   "execution_count": 32,
   "id": "2058a6c5-9c60-48ca-a04c-77497854ebe0",
   "metadata": {},
   "outputs": [],
   "source": [
    "emp2={('id'):20}"
   ]
  },
  {
   "cell_type": "code",
   "execution_count": 33,
   "id": "e11b2be3-e26d-41bd-997c-79d016dc086e",
   "metadata": {},
   "outputs": [
    {
     "data": {
      "text/plain": [
       "dict"
      ]
     },
     "execution_count": 33,
     "metadata": {},
     "output_type": "execute_result"
    }
   ],
   "source": [
    "type(emp2)"
   ]
  },
  {
   "cell_type": "code",
   "execution_count": 35,
   "id": "0b8ecad7-9989-4763-b45c-24b4fbcf51bf",
   "metadata": {},
   "outputs": [],
   "source": [
    "emp['sal']=800000"
   ]
  },
  {
   "cell_type": "code",
   "execution_count": 36,
   "id": "86424671-1950-4509-82a0-b3c74c28c197",
   "metadata": {},
   "outputs": [
    {
     "data": {
      "text/plain": [
       "{'id': 101, 'name': 'Deep', 'sal': 800000, 'present': 'true'}"
      ]
     },
     "execution_count": 36,
     "metadata": {},
     "output_type": "execute_result"
    }
   ],
   "source": [
    "emp"
   ]
  },
  {
   "cell_type": "code",
   "execution_count": 37,
   "id": "ce6de55d-c8cd-4ea1-bd11-767179e03c34",
   "metadata": {},
   "outputs": [
    {
     "data": {
      "text/plain": [
       "'Deep'"
      ]
     },
     "execution_count": 37,
     "metadata": {},
     "output_type": "execute_result"
    }
   ],
   "source": [
    "emp.get('name')"
   ]
  },
  {
   "cell_type": "code",
   "execution_count": 39,
   "id": "761c5261-2b06-4938-a9fc-69b13677807e",
   "metadata": {},
   "outputs": [
    {
     "data": {
      "text/plain": [
       "'not available'"
      ]
     },
     "execution_count": 39,
     "metadata": {},
     "output_type": "execute_result"
    }
   ],
   "source": [
    "emp.get('age','not available')"
   ]
  },
  {
   "cell_type": "code",
   "execution_count": 40,
   "id": "a2c435fc-d75e-43ca-afc5-5024413ca4aa",
   "metadata": {},
   "outputs": [
    {
     "data": {
      "text/plain": [
       "dict_keys(['id', 'name', 'sal', 'present'])"
      ]
     },
     "execution_count": 40,
     "metadata": {},
     "output_type": "execute_result"
    }
   ],
   "source": [
    "emp.keys()"
   ]
  },
  {
   "cell_type": "code",
   "execution_count": 41,
   "id": "ea12926b-bd5a-4006-8131-fa4939f479cf",
   "metadata": {},
   "outputs": [
    {
     "data": {
      "text/plain": [
       "dict_values([101, 'Deep', 800000, 'true'])"
      ]
     },
     "execution_count": 41,
     "metadata": {},
     "output_type": "execute_result"
    }
   ],
   "source": [
    "emp.values()"
   ]
  },
  {
   "cell_type": "code",
   "execution_count": 42,
   "id": "83af5dc4-9a51-4bf6-89b3-5a47c2a4f5d5",
   "metadata": {},
   "outputs": [
    {
     "data": {
      "text/plain": [
       "dict_items([('id', 101), ('name', 'Deep'), ('sal', 800000), ('present', 'true')])"
      ]
     },
     "execution_count": 42,
     "metadata": {},
     "output_type": "execute_result"
    }
   ],
   "source": [
    "emp.items()"
   ]
  },
  {
   "cell_type": "code",
   "execution_count": 44,
   "id": "47eb809a-b4b8-4c55-9c9a-3d30b91b2e23",
   "metadata": {},
   "outputs": [
    {
     "data": {
      "text/plain": [
       "101"
      ]
     },
     "execution_count": 44,
     "metadata": {},
     "output_type": "execute_result"
    }
   ],
   "source": [
    "emp.pop('id')"
   ]
  },
  {
   "cell_type": "code",
   "execution_count": 45,
   "id": "bc7a43c6-7166-4626-8549-5a355d841a47",
   "metadata": {},
   "outputs": [
    {
     "data": {
      "text/plain": [
       "{'name': 'Deep', 'sal': 800000, 'present': 'true'}"
      ]
     },
     "execution_count": 45,
     "metadata": {},
     "output_type": "execute_result"
    }
   ],
   "source": [
    "emp"
   ]
  },
  {
   "cell_type": "code",
   "execution_count": 48,
   "id": "31f54ae1-aafe-4720-a205-df511c41ecda",
   "metadata": {},
   "outputs": [],
   "source": [
    "emp[id]:101"
   ]
  },
  {
   "cell_type": "code",
   "execution_count": 53,
   "id": "1543c54d-bebb-46cf-b2f3-dca97bf0a12c",
   "metadata": {},
   "outputs": [
    {
     "data": {
      "text/plain": [
       "{'name': 'Deep', 'sal': 800000, 'present': 'true'}"
      ]
     },
     "execution_count": 53,
     "metadata": {},
     "output_type": "execute_result"
    }
   ],
   "source": [
    "emp"
   ]
  },
  {
   "cell_type": "code",
   "execution_count": 55,
   "id": "d144c2e0-7e90-44b2-aeda-b47f86907f97",
   "metadata": {},
   "outputs": [],
   "source": [
    "emp1.clear()"
   ]
  },
  {
   "cell_type": "code",
   "execution_count": 56,
   "id": "2337c510-985f-4897-8c9d-654966e39b53",
   "metadata": {},
   "outputs": [
    {
     "data": {
      "text/plain": [
       "{}"
      ]
     },
     "execution_count": 56,
     "metadata": {},
     "output_type": "execute_result"
    }
   ],
   "source": [
    "emp1"
   ]
  },
  {
   "cell_type": "code",
   "execution_count": 58,
   "id": "22359160-74bf-4003-80d6-74e96bcc35b6",
   "metadata": {},
   "outputs": [],
   "source": [
    "data = {\n",
    "    101: {\n",
    "        'personal_info': {'name': 'Alice', 'age': 30, 'gender': 'Female'},\n",
    "        'job_info': {'position': 'Developer', 'salary': 70000, 'department': 'Engineering'},\n",
    "        'contact': {'email': 'alice@example.com', 'phone': '+1-800-555-1234'},\n",
    "        'skills': ['Python', 'Django', 'JavaScript'],\n",
    "        'projects': [\n",
    "            {'project_name': 'WebApp Redesign', 'duration': '6 months', 'status': 'Completed'},\n",
    "            {'project_name': 'API Development', 'duration': '3 months', 'status': 'In Progress'}\n",
    "        ]\n",
    "    },\n",
    "    102: {\n",
    "        'personal_info': {'name': 'Bob', 'age': 35, 'gender': 'Male'},\n",
    "        'job_info': {'position': 'Manager', 'salary': 80000, 'department': 'Management'},\n",
    "        'contact': {'email': 'bob@example.com', 'phone': '+1-800-555-5678'},\n",
    "        'skills': ['Leadership', 'Project Management', 'Negotiation'],\n",
    "        'projects': [\n",
    "            {'project_name': 'Budget Planning', 'duration': '2 months', 'status': 'Completed'},\n",
    "            {'project_name': 'Team Expansion', 'duration': '1 month', 'status': 'In Progress'}\n",
    "        ]\n",
    "    },\n",
    "    103: {\n",
    "        'personal_info': {'name': 'Charlie', 'age': 28, 'gender': 'Male'},\n",
    "        'job_info': {'position': 'Intern', 'salary': 30000, 'department': 'Engineering'},\n",
    "        'contact': {'email': 'charlie@example.com', 'phone': '+1-800-555-6789'},\n",
    "        'skills': ['JavaScript', 'HTML', 'CSS'],\n",
    "        'projects': [\n",
    "            {'project_name': 'Bug Fixing', 'duration': '1 month', 'status': 'Completed'}\n",
    "        ]\n",
    "    },\n",
    "    104: {\n",
    "        'personal_info': {'name': 'David', 'age': 40, 'gender': 'Male'},\n",
    "        'job_info': {'position': 'Lead Developer', 'salary': 95000, 'department': 'Engineering'},\n",
    "        'contact': {'email': 'david@example.com', 'phone': '+1-800-555-9876'},\n",
    "        'skills': ['Java', 'Spring Boot', 'API Design'],\n",
    "        'projects': [\n",
    "            {'project_name': 'Microservices Migration', 'duration': '12 months', 'status': 'In Progress'},\n",
    "            {'project_name': 'Server Optimization', 'duration': '6 months', 'status': 'Completed'}\n",
    "        ]\n",
    "    },\n",
    "    105: {\n",
    "        'personal_info': {'name': 'Eve', 'age': 33, 'gender': 'Female'},\n",
    "        'job_info': {'position': 'HR', 'salary': 60000, 'department': 'Human Resources'},\n",
    "        'contact': {'email': 'eve@example.com', 'phone': '+1-800-555-2468'},\n",
    "        'skills': ['Employee Relations', 'Conflict Resolution', 'Recruitment'],\n",
    "        'projects': [\n",
    "            {'project_name': 'Employee Onboarding', 'duration': '3 months', 'status': 'Completed'}\n",
    "        ],\n",
    "        'reviews': [\n",
    "            {'year': 2023, 'rating': 4.5, 'comments': 'Excellent communication skills'},\n",
    "            {'year': 2022, 'rating': 4.0, 'comments': 'Great at resolving conflicts'}\n",
    "        ]\n",
    "    },\n",
    "    106: {\n",
    "        'personal_info': {'name': 'Frank', 'age': 38, 'gender': 'Male'},\n",
    "        'job_info': {'position': 'QA Engineer', 'salary': 65000, 'department': 'Quality Assurance'},\n",
    "        'contact': {'email': 'frank@example.com', 'phone': '+1-800-555-7890'},\n",
    "        'skills': ['Automation Testing', 'Selenium', 'CI/CD'],\n",
    "        'projects': [\n",
    "            {'project_name': 'Regression Testing', 'duration': '4 months', 'status': 'Completed'},\n",
    "            {'project_name': 'Performance Testing', 'duration': '2 months', 'status': 'In Progress'}\n",
    "        ],\n",
    "        'issues': [\n",
    "            {'date': '2024-01-10', 'issue': 'Critical bug found in the payment gateway'},\n",
    "            {'date': '2024-01-20', 'issue': 'Minor UI bug in the login page'}\n",
    "        ]\n",
    "    },\n",
    "    107: {\n",
    "        'personal_info': {'name': 'Grace', 'age': 29, 'gender': 'Female'},\n",
    "        'job_info': {'position': 'Data Scientist', 'salary': 85000, 'department': 'Data Science'},\n",
    "        'contact': {'email': 'grace@example.com', 'phone': '+1-800-555-1111'},\n",
    "        'skills': ['Machine Learning', 'Data Analysis', 'Python'],\n",
    "        'projects': [\n",
    "            {'project_name': 'Customer Segmentation', 'duration': '8 months', 'status': 'In Progress'},\n",
    "            {'project_name': 'Predictive Analytics', 'duration': '5 months', 'status': 'Completed'}\n",
    "        ]\n",
    "    },\n",
    "    108: {\n",
    "        'personal_info': {'name': 'Hannah', 'age': 31, 'gender': 'Female'},\n",
    "        'job_info': {'position': 'Designer', 'salary': 75000, 'department': 'Design'},\n",
    "        'contact': {'email': 'hannah@example.com', 'phone': '+1-800-555-3333'},\n",
    "        'skills': ['UI/UX Design', 'Figma', 'Photoshop'],\n",
    "        'projects': [\n",
    "            {'project_name': 'Mobile App Design', 'duration': '4 months', 'status': 'Completed'},\n",
    "            {'project_name': 'Website Redesign', 'duration': '6 months', 'status': 'In Progress'}\n",
    "        ]\n",
    "    },\n",
    "    109: {\n",
    "        'personal_info': {'name': 'Ivy', 'age': 27, 'gender': 'Female'},\n",
    "        'job_info': {'position': 'Product Owner', 'salary': 70000, 'department': 'Product'},\n",
    "        'contact': {'email': 'ivy@example.com', 'phone': '+1-800-555-4444'},\n",
    "        'skills': ['Agile Methodology', 'Product Roadmap', 'Stakeholder Management'],\n",
    "        'projects': [\n",
    "            {'project_name': 'Product Launch', 'duration': '3 months', 'status': 'Completed'}\n",
    "        ]\n",
    "    },\n",
    "    110: {\n",
    "        'personal_info': {'name': 'Jack', 'age': 42, 'gender': 'Male'},\n",
    "        'job_info': {'position': 'CTO', 'salary': 120000, 'department': 'Executive'},\n",
    "        'contact': {'email': 'jack@example.com', 'phone': '+1-800-555-5555'},\n",
    "        'skills': ['Leadership', 'Strategy', 'Innovation'],\n",
    "        'projects': [\n",
    "            {'project_name': 'Cloud Transformation', 'duration': '18 months', 'status': 'In Progress'},\n",
    "            {'project_name': 'Tech Stack Update', 'duration': '12 months', 'status': 'Completed'}\n",
    "        ]\n",
    "    }\n",
    "}\n"
   ]
  },
  {
   "cell_type": "code",
   "execution_count": 59,
   "id": "b007f994-7e56-44a9-935d-55fcae9cbac6",
   "metadata": {},
   "outputs": [
    {
     "data": {
      "text/plain": [
       "{101: {'personal_info': {'name': 'Alice', 'age': 30, 'gender': 'Female'},\n",
       "  'job_info': {'position': 'Developer',\n",
       "   'salary': 70000,\n",
       "   'department': 'Engineering'},\n",
       "  'contact': {'email': 'alice@example.com', 'phone': '+1-800-555-1234'},\n",
       "  'skills': ['Python', 'Django', 'JavaScript'],\n",
       "  'projects': [{'project_name': 'WebApp Redesign',\n",
       "    'duration': '6 months',\n",
       "    'status': 'Completed'},\n",
       "   {'project_name': 'API Development',\n",
       "    'duration': '3 months',\n",
       "    'status': 'In Progress'}]},\n",
       " 102: {'personal_info': {'name': 'Bob', 'age': 35, 'gender': 'Male'},\n",
       "  'job_info': {'position': 'Manager',\n",
       "   'salary': 80000,\n",
       "   'department': 'Management'},\n",
       "  'contact': {'email': 'bob@example.com', 'phone': '+1-800-555-5678'},\n",
       "  'skills': ['Leadership', 'Project Management', 'Negotiation'],\n",
       "  'projects': [{'project_name': 'Budget Planning',\n",
       "    'duration': '2 months',\n",
       "    'status': 'Completed'},\n",
       "   {'project_name': 'Team Expansion',\n",
       "    'duration': '1 month',\n",
       "    'status': 'In Progress'}]},\n",
       " 103: {'personal_info': {'name': 'Charlie', 'age': 28, 'gender': 'Male'},\n",
       "  'job_info': {'position': 'Intern',\n",
       "   'salary': 30000,\n",
       "   'department': 'Engineering'},\n",
       "  'contact': {'email': 'charlie@example.com', 'phone': '+1-800-555-6789'},\n",
       "  'skills': ['JavaScript', 'HTML', 'CSS'],\n",
       "  'projects': [{'project_name': 'Bug Fixing',\n",
       "    'duration': '1 month',\n",
       "    'status': 'Completed'}]},\n",
       " 104: {'personal_info': {'name': 'David', 'age': 40, 'gender': 'Male'},\n",
       "  'job_info': {'position': 'Lead Developer',\n",
       "   'salary': 95000,\n",
       "   'department': 'Engineering'},\n",
       "  'contact': {'email': 'david@example.com', 'phone': '+1-800-555-9876'},\n",
       "  'skills': ['Java', 'Spring Boot', 'API Design'],\n",
       "  'projects': [{'project_name': 'Microservices Migration',\n",
       "    'duration': '12 months',\n",
       "    'status': 'In Progress'},\n",
       "   {'project_name': 'Server Optimization',\n",
       "    'duration': '6 months',\n",
       "    'status': 'Completed'}]},\n",
       " 105: {'personal_info': {'name': 'Eve', 'age': 33, 'gender': 'Female'},\n",
       "  'job_info': {'position': 'HR',\n",
       "   'salary': 60000,\n",
       "   'department': 'Human Resources'},\n",
       "  'contact': {'email': 'eve@example.com', 'phone': '+1-800-555-2468'},\n",
       "  'skills': ['Employee Relations', 'Conflict Resolution', 'Recruitment'],\n",
       "  'projects': [{'project_name': 'Employee Onboarding',\n",
       "    'duration': '3 months',\n",
       "    'status': 'Completed'}],\n",
       "  'reviews': [{'year': 2023,\n",
       "    'rating': 4.5,\n",
       "    'comments': 'Excellent communication skills'},\n",
       "   {'year': 2022, 'rating': 4.0, 'comments': 'Great at resolving conflicts'}]},\n",
       " 106: {'personal_info': {'name': 'Frank', 'age': 38, 'gender': 'Male'},\n",
       "  'job_info': {'position': 'QA Engineer',\n",
       "   'salary': 65000,\n",
       "   'department': 'Quality Assurance'},\n",
       "  'contact': {'email': 'frank@example.com', 'phone': '+1-800-555-7890'},\n",
       "  'skills': ['Automation Testing', 'Selenium', 'CI/CD'],\n",
       "  'projects': [{'project_name': 'Regression Testing',\n",
       "    'duration': '4 months',\n",
       "    'status': 'Completed'},\n",
       "   {'project_name': 'Performance Testing',\n",
       "    'duration': '2 months',\n",
       "    'status': 'In Progress'}],\n",
       "  'issues': [{'date': '2024-01-10',\n",
       "    'issue': 'Critical bug found in the payment gateway'},\n",
       "   {'date': '2024-01-20', 'issue': 'Minor UI bug in the login page'}]},\n",
       " 107: {'personal_info': {'name': 'Grace', 'age': 29, 'gender': 'Female'},\n",
       "  'job_info': {'position': 'Data Scientist',\n",
       "   'salary': 85000,\n",
       "   'department': 'Data Science'},\n",
       "  'contact': {'email': 'grace@example.com', 'phone': '+1-800-555-1111'},\n",
       "  'skills': ['Machine Learning', 'Data Analysis', 'Python'],\n",
       "  'projects': [{'project_name': 'Customer Segmentation',\n",
       "    'duration': '8 months',\n",
       "    'status': 'In Progress'},\n",
       "   {'project_name': 'Predictive Analytics',\n",
       "    'duration': '5 months',\n",
       "    'status': 'Completed'}]},\n",
       " 108: {'personal_info': {'name': 'Hannah', 'age': 31, 'gender': 'Female'},\n",
       "  'job_info': {'position': 'Designer',\n",
       "   'salary': 75000,\n",
       "   'department': 'Design'},\n",
       "  'contact': {'email': 'hannah@example.com', 'phone': '+1-800-555-3333'},\n",
       "  'skills': ['UI/UX Design', 'Figma', 'Photoshop'],\n",
       "  'projects': [{'project_name': 'Mobile App Design',\n",
       "    'duration': '4 months',\n",
       "    'status': 'Completed'},\n",
       "   {'project_name': 'Website Redesign',\n",
       "    'duration': '6 months',\n",
       "    'status': 'In Progress'}]},\n",
       " 109: {'personal_info': {'name': 'Ivy', 'age': 27, 'gender': 'Female'},\n",
       "  'job_info': {'position': 'Product Owner',\n",
       "   'salary': 70000,\n",
       "   'department': 'Product'},\n",
       "  'contact': {'email': 'ivy@example.com', 'phone': '+1-800-555-4444'},\n",
       "  'skills': ['Agile Methodology', 'Product Roadmap', 'Stakeholder Management'],\n",
       "  'projects': [{'project_name': 'Product Launch',\n",
       "    'duration': '3 months',\n",
       "    'status': 'Completed'}]},\n",
       " 110: {'personal_info': {'name': 'Jack', 'age': 42, 'gender': 'Male'},\n",
       "  'job_info': {'position': 'CTO', 'salary': 120000, 'department': 'Executive'},\n",
       "  'contact': {'email': 'jack@example.com', 'phone': '+1-800-555-5555'},\n",
       "  'skills': ['Leadership', 'Strategy', 'Innovation'],\n",
       "  'projects': [{'project_name': 'Cloud Transformation',\n",
       "    'duration': '18 months',\n",
       "    'status': 'In Progress'},\n",
       "   {'project_name': 'Tech Stack Update',\n",
       "    'duration': '12 months',\n",
       "    'status': 'Completed'}]}}"
      ]
     },
     "execution_count": 59,
     "metadata": {},
     "output_type": "execute_result"
    }
   ],
   "source": [
    "data"
   ]
  },
  {
   "cell_type": "code",
   "execution_count": 62,
   "id": "714d46af-209d-44f3-9e10-b742f32637fd",
   "metadata": {},
   "outputs": [
    {
     "data": {
      "text/plain": [
       "{'personal_info': {'name': 'Bob', 'age': 35, 'gender': 'Male'},\n",
       " 'job_info': {'position': 'Manager',\n",
       "  'salary': 80000,\n",
       "  'department': 'Management'},\n",
       " 'contact': {'email': 'bob@example.com', 'phone': '+1-800-555-5678'},\n",
       " 'skills': ['Leadership', 'Project Management', 'Negotiation'],\n",
       " 'projects': [{'project_name': 'Budget Planning',\n",
       "   'duration': '2 months',\n",
       "   'status': 'Completed'},\n",
       "  {'project_name': 'Team Expansion',\n",
       "   'duration': '1 month',\n",
       "   'status': 'In Progress'}]}"
      ]
     },
     "execution_count": 62,
     "metadata": {},
     "output_type": "execute_result"
    }
   ],
   "source": [
    "data[102]"
   ]
  },
  {
   "cell_type": "code",
   "execution_count": 71,
   "id": "274d017b-ce73-4f63-a1fb-fdd7a0db1c9a",
   "metadata": {},
   "outputs": [
    {
     "data": {
      "text/plain": [
       "{'name': 'Bob', 'age': 35, 'gender': 'Male'}"
      ]
     },
     "execution_count": 71,
     "metadata": {},
     "output_type": "execute_result"
    }
   ],
   "source": []
  },
  {
   "cell_type": "code",
   "execution_count": null,
   "id": "ec94b84e-ce5f-4fe6-9d53-e010bc410a8a",
   "metadata": {},
   "outputs": [],
   "source": []
  }
 ],
 "metadata": {
  "kernelspec": {
   "display_name": "Python 3 (ipykernel)",
   "language": "python",
   "name": "python3"
  },
  "language_info": {
   "codemirror_mode": {
    "name": "ipython",
    "version": 3
   },
   "file_extension": ".py",
   "mimetype": "text/x-python",
   "name": "python",
   "nbconvert_exporter": "python",
   "pygments_lexer": "ipython3",
   "version": "3.11.7"
  }
 },
 "nbformat": 4,
 "nbformat_minor": 5
}
