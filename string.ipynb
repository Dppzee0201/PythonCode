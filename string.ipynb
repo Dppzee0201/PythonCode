{
 "cells": [
  {
   "cell_type": "code",
   "execution_count": 1,
   "id": "0f5001d8-01d4-4e01-84b9-b8d515e66bfc",
   "metadata": {},
   "outputs": [
    {
     "data": {
      "text/plain": [
       "'avb'"
      ]
     },
     "execution_count": 1,
     "metadata": {},
     "output_type": "execute_result"
    }
   ],
   "source": [
    "str('avb')"
   ]
  },
  {
   "cell_type": "code",
   "execution_count": 3,
   "id": "084ba3a7-5060-44b5-986b-7f3711399aaf",
   "metadata": {},
   "outputs": [
    {
     "data": {
      "text/plain": [
       "True"
      ]
     },
     "execution_count": 3,
     "metadata": {},
     "output_type": "execute_result"
    }
   ],
   "source": [
    "any('asf')"
   ]
  },
  {
   "cell_type": "code",
   "execution_count": 4,
   "id": "2a5cabef-367f-4da2-b03c-2904fe01d6e9",
   "metadata": {},
   "outputs": [
    {
     "data": {
      "text/plain": [
       "builtin_function_or_method"
      ]
     },
     "execution_count": 4,
     "metadata": {},
     "output_type": "execute_result"
    }
   ],
   "source": [
    "type(any)"
   ]
  },
  {
   "cell_type": "code",
   "execution_count": 5,
   "id": "0d9fb523-5164-4d9a-bbc0-9caa3fea9d48",
   "metadata": {},
   "outputs": [
    {
     "data": {
      "text/plain": [
       "'hello world'"
      ]
     },
     "execution_count": 5,
     "metadata": {},
     "output_type": "execute_result"
    }
   ],
   "source": [
    "str('hello world')"
   ]
  },
  {
   "cell_type": "code",
   "execution_count": 7,
   "id": "9757717c-f989-4e5d-8d15-3e063af6a634",
   "metadata": {},
   "outputs": [
    {
     "data": {
      "text/plain": [
       "\"phone and it's cover\""
      ]
     },
     "execution_count": 7,
     "metadata": {},
     "output_type": "execute_result"
    }
   ],
   "source": [
    "str(\"phone and it's cover\")"
   ]
  },
  {
   "cell_type": "code",
   "execution_count": 9,
   "id": "00b210da-c5d6-47ff-8263-285439ba6aae",
   "metadata": {},
   "outputs": [
    {
     "data": {
      "text/plain": [
       "''"
      ]
     },
     "execution_count": 9,
     "metadata": {},
     "output_type": "execute_result"
    }
   ],
   "source": [
    "str()"
   ]
  },
  {
   "cell_type": "code",
   "execution_count": null,
   "id": "daa57d9d-c2fd-4e62-a881-3a00a608f5bf",
   "metadata": {},
   "outputs": [],
   "source": []
  },
  {
   "cell_type": "code",
   "execution_count": 11,
   "id": "8da1db35-76be-4773-ad02-e7f803053bcf",
   "metadata": {},
   "outputs": [
    {
     "name": "stdout",
     "output_type": "stream",
     "text": [
      "\"Hello there\" he said\n"
     ]
    }
   ],
   "source": [
    "print(str('\"Hello there\" he said'))\n"
   ]
  },
  {
   "cell_type": "code",
   "execution_count": 16,
   "id": "39ab58a5-6243-4028-86ef-20c5a1f70211",
   "metadata": {},
   "outputs": [],
   "source": [
    "str=('\"Hello there\" he said')\n"
   ]
  },
  {
   "cell_type": "code",
   "execution_count": 17,
   "id": "9e5b5439-3ca1-4ceb-ad91-7ad0eacd8802",
   "metadata": {},
   "outputs": [
    {
     "data": {
      "text/plain": [
       "'\"Hello there\" he said'"
      ]
     },
     "execution_count": 17,
     "metadata": {},
     "output_type": "execute_result"
    }
   ],
   "source": [
    "str"
   ]
  },
  {
   "cell_type": "code",
   "execution_count": 19,
   "id": "09955bcf-c5d2-4086-b041-842d01063a9d",
   "metadata": {},
   "outputs": [],
   "source": [
    "str2=('''fakfa aifjaj afahf  ajszfhahs ahjfha \n",
    "fakha  asfkja asjfaj aska afkj afk''')"
   ]
  },
  {
   "cell_type": "markdown",
   "id": "9679e25b-eff3-4940-b154-343e0a9f74f0",
   "metadata": {},
   "source": [
    "## "
   ]
  },
  {
   "cell_type": "code",
   "execution_count": 20,
   "id": "78286774-bbdc-45db-98ab-6e9d9ef4f8b2",
   "metadata": {},
   "outputs": [
    {
     "data": {
      "text/plain": [
       "'fakfa aifjaj afahf  ajszfhahs ahjfha \\nfakha  asfkja asjfaj aska afkj afk'"
      ]
     },
     "execution_count": 20,
     "metadata": {},
     "output_type": "execute_result"
    }
   ],
   "source": [
    "str2"
   ]
  },
  {
   "cell_type": "code",
   "execution_count": 22,
   "id": "22d6a541-0416-4eb5-bb50-f0a998aba59c",
   "metadata": {},
   "outputs": [],
   "source": [
    "str1=('HELLOTHERE')"
   ]
  },
  {
   "cell_type": "code",
   "execution_count": 30,
   "id": "96b3db84-c031-4979-8039-3767f0d3b93c",
   "metadata": {},
   "outputs": [
    {
     "data": {
      "text/plain": [
       "'HELLOTHERE'"
      ]
     },
     "execution_count": 30,
     "metadata": {},
     "output_type": "execute_result"
    }
   ],
   "source": [
    "str1[0:]"
   ]
  },
  {
   "cell_type": "code",
   "execution_count": 31,
   "id": "ac43f1f6-a378-4152-a594-5834f3369d6d",
   "metadata": {},
   "outputs": [
    {
     "data": {
      "text/plain": [
       "'HELLOTHERE'"
      ]
     },
     "execution_count": 31,
     "metadata": {},
     "output_type": "execute_result"
    }
   ],
   "source": [
    "str1[:]"
   ]
  },
  {
   "cell_type": "code",
   "execution_count": 32,
   "id": "15c6f670-60dd-4aa8-961a-4c6cc116b86b",
   "metadata": {},
   "outputs": [
    {
     "data": {
      "text/plain": [
       "'THERE'"
      ]
     },
     "execution_count": 32,
     "metadata": {},
     "output_type": "execute_result"
    }
   ],
   "source": [
    "str1[5:]"
   ]
  },
  {
   "cell_type": "code",
   "execution_count": 36,
   "id": "642f221e-0d30-4db0-b7f7-4b777b23ade8",
   "metadata": {},
   "outputs": [
    {
     "data": {
      "text/plain": [
       "'HELLO'"
      ]
     },
     "execution_count": 36,
     "metadata": {},
     "output_type": "execute_result"
    }
   ],
   "source": [
    "str1[:5]"
   ]
  },
  {
   "cell_type": "code",
   "execution_count": 37,
   "id": "1181827b-13ef-40db-abe3-7482d7bf6f48",
   "metadata": {},
   "outputs": [],
   "source": [
    "str4=(\"Hello,there is so much more to this\")"
   ]
  },
  {
   "cell_type": "code",
   "execution_count": 38,
   "id": "f945b10b-190c-4a26-9e57-178ecfd34c3e",
   "metadata": {},
   "outputs": [
    {
     "data": {
      "text/plain": [
       "'Hello,there is so much more to this'"
      ]
     },
     "execution_count": 38,
     "metadata": {},
     "output_type": "execute_result"
    }
   ],
   "source": [
    "str4[0:]"
   ]
  },
  {
   "cell_type": "code",
   "execution_count": 39,
   "id": "53b5ad1c-48e4-4d8b-aa46-5a3622d85836",
   "metadata": {},
   "outputs": [
    {
     "data": {
      "text/plain": [
       "'Hello,there is so much more to this'"
      ]
     },
     "execution_count": 39,
     "metadata": {},
     "output_type": "execute_result"
    }
   ],
   "source": [
    "str4"
   ]
  },
  {
   "cell_type": "code",
   "execution_count": 41,
   "id": "1799e3e7-0551-4260-a7fa-29ee0e4ffbdf",
   "metadata": {},
   "outputs": [
    {
     "data": {
      "text/plain": [
       "'much more to this'"
      ]
     },
     "execution_count": 41,
     "metadata": {},
     "output_type": "execute_result"
    }
   ],
   "source": [
    "str4[18:]"
   ]
  },
  {
   "cell_type": "code",
   "execution_count": 42,
   "id": "deb37cbb-3bd4-4daf-b964-42d5d9152fa8",
   "metadata": {},
   "outputs": [
    {
     "data": {
      "text/plain": [
       "'Hello,there is so much more to this'"
      ]
     },
     "execution_count": 42,
     "metadata": {},
     "output_type": "execute_result"
    }
   ],
   "source": [
    "str4[:]"
   ]
  },
  {
   "cell_type": "code",
   "execution_count": 43,
   "id": "188b02eb-7404-462c-bda5-431b6c937214",
   "metadata": {},
   "outputs": [
    {
     "data": {
      "text/plain": [
       "'this'"
      ]
     },
     "execution_count": 43,
     "metadata": {},
     "output_type": "execute_result"
    }
   ],
   "source": [
    "str4[-4:]"
   ]
  },
  {
   "cell_type": "code",
   "execution_count": 44,
   "id": "91d8dcd1-c329-49d4-9346-cd78e51c24da",
   "metadata": {},
   "outputs": [
    {
     "data": {
      "text/plain": [
       "'Hloteei omc oet hs'"
      ]
     },
     "execution_count": 44,
     "metadata": {},
     "output_type": "execute_result"
    }
   ],
   "source": [
    "str4[0::2]"
   ]
  },
  {
   "cell_type": "code",
   "execution_count": 45,
   "id": "2c0de649-1a63-4893-a122-d7755198179e",
   "metadata": {},
   "outputs": [],
   "source": [
    "char1=(\"hello\")"
   ]
  },
  {
   "cell_type": "code",
   "execution_count": 49,
   "id": "d88429a0-9ac2-467a-aded-b5b9434b2620",
   "metadata": {},
   "outputs": [],
   "source": [
    "char2=(\" There\")"
   ]
  },
  {
   "cell_type": "code",
   "execution_count": 50,
   "id": "3a9a3e41-f551-4ab9-aee1-580ed2e32e67",
   "metadata": {},
   "outputs": [
    {
     "data": {
      "text/plain": [
       "'hello There'"
      ]
     },
     "execution_count": 50,
     "metadata": {},
     "output_type": "execute_result"
    }
   ],
   "source": [
    "char1+char2"
   ]
  },
  {
   "cell_type": "code",
   "execution_count": 51,
   "id": "2ad75393-5c3c-414b-99ff-6ad74066449c",
   "metadata": {},
   "outputs": [
    {
     "data": {
      "text/plain": [
       "'hellohellohello There'"
      ]
     },
     "execution_count": 51,
     "metadata": {},
     "output_type": "execute_result"
    }
   ],
   "source": [
    "char1*3+char2"
   ]
  },
  {
   "cell_type": "code",
   "execution_count": 53,
   "id": "b2907f75-4f36-4140-b34b-62e360bd85de",
   "metadata": {},
   "outputs": [
    {
     "data": {
      "text/plain": [
       "True"
      ]
     },
     "execution_count": 53,
     "metadata": {},
     "output_type": "execute_result"
    }
   ],
   "source": [
    "'he' in char1"
   ]
  },
  {
   "cell_type": "code",
   "execution_count": 55,
   "id": "516b0a72-61e9-48a1-a357-f9fe0d264f3a",
   "metadata": {},
   "outputs": [
    {
     "data": {
      "text/plain": [
       "False"
      ]
     },
     "execution_count": 55,
     "metadata": {},
     "output_type": "execute_result"
    }
   ],
   "source": [
    "'he' not in char1"
   ]
  },
  {
   "cell_type": "code",
   "execution_count": 56,
   "id": "754d4f9b-3e68-4ea0-8b4e-77db004496bc",
   "metadata": {},
   "outputs": [],
   "source": [
    "string=\"Python\""
   ]
  },
  {
   "cell_type": "code",
   "execution_count": 57,
   "id": "3995f63a-3516-4035-9868-1eec898c6108",
   "metadata": {},
   "outputs": [
    {
     "data": {
      "text/plain": [
       "'PYTHON'"
      ]
     },
     "execution_count": 57,
     "metadata": {},
     "output_type": "execute_result"
    }
   ],
   "source": [
    "string.upper()"
   ]
  },
  {
   "cell_type": "code",
   "execution_count": 58,
   "id": "5a0c23eb-1b03-473c-b0fb-7e7605e2d11c",
   "metadata": {},
   "outputs": [
    {
     "data": {
      "text/plain": [
       "'python'"
      ]
     },
     "execution_count": 58,
     "metadata": {},
     "output_type": "execute_result"
    }
   ],
   "source": [
    "string.lower()"
   ]
  },
  {
   "cell_type": "code",
   "execution_count": 59,
   "id": "22d06b19-4251-498f-85b4-5bf98e55741a",
   "metadata": {},
   "outputs": [],
   "source": [
    "p=('hello there is everything good?')"
   ]
  },
  {
   "cell_type": "code",
   "execution_count": 60,
   "id": "9606e9d2-867c-4b89-bc96-1cdb85e22b6e",
   "metadata": {},
   "outputs": [
    {
     "data": {
      "text/plain": [
       "'Hello There Is Everything Good?'"
      ]
     },
     "execution_count": 60,
     "metadata": {},
     "output_type": "execute_result"
    }
   ],
   "source": [
    "p.title()"
   ]
  },
  {
   "cell_type": "code",
   "execution_count": 61,
   "id": "8243ab28-046f-45c4-bb90-80791a003b77",
   "metadata": {},
   "outputs": [
    {
     "data": {
      "text/plain": [
       "'hello there is everything good?'"
      ]
     },
     "execution_count": 61,
     "metadata": {},
     "output_type": "execute_result"
    }
   ],
   "source": [
    "p.lower()"
   ]
  },
  {
   "cell_type": "code",
   "execution_count": 62,
   "id": "eda001ff-2813-42bb-9df2-823aecd3dd99",
   "metadata": {},
   "outputs": [
    {
     "data": {
      "text/plain": [
       "'Hello there is everything good?'"
      ]
     },
     "execution_count": 62,
     "metadata": {},
     "output_type": "execute_result"
    }
   ],
   "source": [
    "p.capitalize()"
   ]
  },
  {
   "cell_type": "code",
   "execution_count": 63,
   "id": "236106c6-d0a1-4d76-9cab-8e11951795d4",
   "metadata": {},
   "outputs": [
    {
     "data": {
      "text/plain": [
       "'Hello There Is Everything Good?'"
      ]
     },
     "execution_count": 63,
     "metadata": {},
     "output_type": "execute_result"
    }
   ],
   "source": [
    "p.title()"
   ]
  },
  {
   "cell_type": "code",
   "execution_count": 68,
   "id": "fbb99269-6593-41b2-9224-e177ce4f66c3",
   "metadata": {},
   "outputs": [],
   "source": [
    "p1=p.endswith('good?')"
   ]
  },
  {
   "cell_type": "code",
   "execution_count": 69,
   "id": "4ccd75c8-d08d-4f18-85da-7583fe6b889e",
   "metadata": {},
   "outputs": [
    {
     "data": {
      "text/plain": [
       "'hello there is everything good?'"
      ]
     },
     "execution_count": 69,
     "metadata": {},
     "output_type": "execute_result"
    }
   ],
   "source": [
    "p"
   ]
  },
  {
   "cell_type": "code",
   "execution_count": 70,
   "id": "1ca14578-5502-4584-9e11-ae983aa31887",
   "metadata": {},
   "outputs": [
    {
     "data": {
      "text/plain": [
       "True"
      ]
     },
     "execution_count": 70,
     "metadata": {},
     "output_type": "execute_result"
    }
   ],
   "source": [
    "p1"
   ]
  },
  {
   "cell_type": "code",
   "execution_count": 74,
   "id": "4c65f7b1-87db-48b7-8746-a8d4f590782e",
   "metadata": {},
   "outputs": [
    {
     "data": {
      "text/plain": [
       "True"
      ]
     },
     "execution_count": 74,
     "metadata": {},
     "output_type": "execute_result"
    }
   ],
   "source": [
    "p.startswith('hello')"
   ]
  },
  {
   "cell_type": "code",
   "execution_count": null,
   "id": "9a0e2311-1e72-4c59-adbf-e3517439f7db",
   "metadata": {},
   "outputs": [],
   "source": []
  }
 ],
 "metadata": {
  "kernelspec": {
   "display_name": "Python 3 (ipykernel)",
   "language": "python",
   "name": "python3"
  },
  "language_info": {
   "codemirror_mode": {
    "name": "ipython",
    "version": 3
   },
   "file_extension": ".py",
   "mimetype": "text/x-python",
   "name": "python",
   "nbconvert_exporter": "python",
   "pygments_lexer": "ipython3",
   "version": "3.11.7"
  }
 },
 "nbformat": 4,
 "nbformat_minor": 5
}
