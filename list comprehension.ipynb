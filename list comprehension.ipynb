{
 "cells": [
  {
   "cell_type": "code",
   "execution_count": 64,
   "id": "a2da40fc-2ac2-4b2d-967b-aa7d8898b643",
   "metadata": {},
   "outputs": [
    {
     "name": "stdout",
     "output_type": "stream",
     "text": [
      "['odd', 'even', 'odd', 'even', 'odd', 'even', 'odd', 'even', 'odd', 'even']\n"
     ]
    }
   ],
   "source": [
    "nums=[1,2,3,4,5,6,7,8,9,10]\n",
    "\n",
    "word=[ 'even' if n%2==0 else 'odd' for n in nums ]\n",
    "print(word)\n",
    "\n"
   ]
  },
  {
   "cell_type": "code",
   "execution_count": 12,
   "id": "7b1b2bfd-ad50-4fc2-976e-cefe3b62d3e6",
   "metadata": {},
   "outputs": [
    {
     "name": "stdout",
     "output_type": "stream",
     "text": [
      "[7, 14, 21, 28, 35, 42, 49, 56, 63, 70, 77, 84, 91, 98, 105, 112, 119, 126, 133, 140, 147, 154, 161, 168, 175, 182, 189, 196, 203, 210, 217, 224, 231, 238, 245, 252, 259, 266, 273, 280, 287, 294, 301, 308, 315, 322, 329, 336, 343, 350, 357, 364, 371, 378, 385, 392, 399, 406, 413, 420, 427, 434, 441, 448, 455, 462, 469, 476, 483, 490, 497, 504, 511, 518, 525, 532, 539, 546, 553, 560, 567, 574, 581, 588, 595, 602, 609, 616, 623, 630, 637, 644, 651, 658, 665, 672, 679, 686, 693, 700, 707, 714, 721, 728, 735, 742, 749, 756, 763, 770, 777, 784, 791, 798, 805, 812, 819, 826, 833, 840, 847, 854, 861, 868, 875, 882, 889, 896, 903, 910, 917, 924, 931, 938, 945, 952, 959, 966, 973, 980, 987, 994]\n"
     ]
    }
   ],
   "source": [
    "div7=[n for n in range(1,1000) if n%7==0]\n",
    "print(div7)"
   ]
  },
  {
   "cell_type": "code",
   "execution_count": 14,
   "id": "be57e0e3-bbdb-466d-b1c8-9b2647fc074d",
   "metadata": {},
   "outputs": [
    {
     "name": "stdout",
     "output_type": "stream",
     "text": [
      "[3, 13, 23, 30, 31, 32, 33, 34, 35, 36, 37, 38, 39, 43, 53, 63, 73, 83, 93, 103, 113, 123, 130, 131, 132, 133, 134, 135, 136, 137, 138, 139, 143, 153, 163, 173, 183, 193, 203, 213, 223, 230, 231, 232, 233, 234, 235, 236, 237, 238, 239, 243, 253, 263, 273, 283, 293, 300, 301, 302, 303, 304, 305, 306, 307, 308, 309, 310, 311, 312, 313, 314, 315, 316, 317, 318, 319, 320, 321, 322, 323, 324, 325, 326, 327, 328, 329, 330, 331, 332, 333, 334, 335, 336, 337, 338, 339, 340, 341, 342, 343, 344, 345, 346, 347, 348, 349, 350, 351, 352, 353, 354, 355, 356, 357, 358, 359, 360, 361, 362, 363, 364, 365, 366, 367, 368, 369, 370, 371, 372, 373, 374, 375, 376, 377, 378, 379, 380, 381, 382, 383, 384, 385, 386, 387, 388, 389, 390, 391, 392, 393, 394, 395, 396, 397, 398, 399, 403, 413, 423, 430, 431, 432, 433, 434, 435, 436, 437, 438, 439, 443, 453, 463, 473, 483, 493, 503, 513, 523, 530, 531, 532, 533, 534, 535, 536, 537, 538, 539, 543, 553, 563, 573, 583, 593, 603, 613, 623, 630, 631, 632, 633, 634, 635, 636, 637, 638, 639, 643, 653, 663, 673, 683, 693, 703, 713, 723, 730, 731, 732, 733, 734, 735, 736, 737, 738, 739, 743, 753, 763, 773, 783, 793, 803, 813, 823, 830, 831, 832, 833, 834, 835, 836, 837, 838, 839, 843, 853, 863, 873, 883, 893, 903, 913, 923, 930, 931, 932, 933, 934, 935, 936, 937, 938, 939, 943, 953, 963, 973, 983, 993]\n"
     ]
    }
   ],
   "source": [
    "three=[n for n in range(1,1000) if '3' in str(n)]\n",
    "print(three)"
   ]
  },
  {
   "cell_type": "code",
   "execution_count": 16,
   "id": "cd230ec7-6149-4a8d-9cd9-7534a4381962",
   "metadata": {},
   "outputs": [
    {
     "name": "stdout",
     "output_type": "stream",
     "text": [
      "20\n"
     ]
    }
   ],
   "source": [
    "string='Dhammadeep fajf fakf a af af af af ajf afafa f faf afaf aff fhafh  af ajfhak faf afafah faf'\n",
    "space=[s for s in string if s==' ']\n",
    "print(len(space))"
   ]
  },
  {
   "cell_type": "code",
   "execution_count": 35,
   "id": "d7ab62bb-44c8-45d0-9930-4949234f9548",
   "metadata": {},
   "outputs": [
    {
     "name": "stdout",
     "output_type": "stream",
     "text": [
      "['e', 'o', 'a', 'i', 'e', 'e', 'i', 'a', 'a', 'i', 'a', 'e', 'u', 'a', 'e', 'o', 'e', 'i', 'e', 'e', 'a', 'i', 'u', 'a']\n"
     ]
    }
   ],
   "source": [
    "sentence= 'Yellow Yaks like yelling and yawning and yesturday they yodled while eating yuky yams'\n",
    "# lower = ''.join(n.lower() for n in sentence)\n",
    "# print(lower)\n",
    "consonants=[n for n in sentence if n in 'a,e,i,o,u' ]\n",
    "print(consonants)"
   ]
  },
  {
   "cell_type": "code",
   "execution_count": 39,
   "id": "c179aa94-e8ad-4fb0-b6c5-560e43efd40e",
   "metadata": {},
   "outputs": [
    {
     "data": {
      "text/plain": [
       "float"
      ]
     },
     "execution_count": 39,
     "metadata": {},
     "output_type": "execute_result"
    }
   ],
   "source": [
    "str=3.3232\n",
    "type(str)"
   ]
  },
  {
   "cell_type": "code",
   "execution_count": 40,
   "id": "cf698c3b-33d1-440c-bd66-1496c4e5180c",
   "metadata": {},
   "outputs": [
    {
     "name": "stdout",
     "output_type": "stream",
     "text": [
      "[<class 'str'>, <class 'int'>, <class 'float'>, <class 'str'>, <class 'int'>, <class 'str'>]\n"
     ]
    }
   ],
   "source": [
    "data=['fsaf',4244,323.42,'2424',87,'str']\n",
    "\n",
    "TYP=[type(n) for n in data ]\n",
    "print(TYP)"
   ]
  },
  {
   "cell_type": "code",
   "execution_count": 46,
   "id": "02e302c5-7949-439b-8ac3-803052752091",
   "metadata": {},
   "outputs": [
    {
     "name": "stdout",
     "output_type": "stream",
     "text": [
      "[2, 3, 4]\n"
     ]
    }
   ],
   "source": [
    "list_a = 1, 2, 3, 4\n",
    "list_b = 2, 3, 4, 5\n",
    "\n",
    "check=[a for a in list_a if a in list_b]\n",
    "print(check)"
   ]
  },
  {
   "cell_type": "code",
   "execution_count": 61,
   "id": "69f11d7a-4d67-4333-b4f0-72e15a4436a8",
   "metadata": {},
   "outputs": [
    {
     "name": "stdout",
     "output_type": "stream",
     "text": [
      "['In', '1984', 'there', 'were', '13', 'instances', 'of', 'a', 'protest', 'with', 'over', '1000', 'people', 'attending']\n",
      "['1984', '13', '1000']\n"
     ]
    }
   ],
   "source": [
    "sentence='In 1984 there were 13 instances of a protest with over 1000 people attending'\n",
    "words = sentence.split() \n",
    "print(words)\n",
    "num=[n for n in words if not n.isalpha()]\n",
    "print(num)"
   ]
  },
  {
   "cell_type": "code",
   "execution_count": 68,
   "id": "cbec5121-805d-4b62-afa2-368a6943ccc2",
   "metadata": {},
   "outputs": [
    {
     "name": "stdout",
     "output_type": "stream",
     "text": [
      "['word', 'were', 'thee', 'were', '1ff3', 'fssa']\n"
     ]
    }
   ],
   "source": [
    "list1=['word','forth','were','thee', 'were', '1ff3', 'instances', 'of', 'fssa', 'protest']\n",
    "four=[n for n in list1 if len(n) == 4]\n",
    "print(four)"
   ]
  },
  {
   "cell_type": "code",
   "execution_count": 70,
   "id": "3ba9895b-91cb-43b1-9a81-b246814fe78d",
   "metadata": {},
   "outputs": [
    {
     "name": "stdout",
     "output_type": "stream",
     "text": [
      "[4, 2, 1, 6, 8]\n"
     ]
    }
   ],
   "source": [
    "str='This is a sample sentence'\n",
    "list1=str.split()\n",
    "count=[len(n) for n in list1]\n",
    "print(count)"
   ]
  },
  {
   "cell_type": "code",
   "execution_count": 71,
   "id": "cd3dba7f-4945-46b1-bc43-d504fd336a04",
   "metadata": {},
   "outputs": [
    {
     "name": "stdout",
     "output_type": "stream",
     "text": [
      "['ammahD', 'nohtyp', 'stniopkcehc', 'tsal']\n"
     ]
    }
   ],
   "source": [
    "words=['Dhamma','python','checkpoints','last']\n",
    "reverse=[n[::-1] for n in words]\n",
    "print(reverse)"
   ]
  },
  {
   "cell_type": "code",
   "execution_count": 72,
   "id": "fe6e0480-5d13-4fd0-aedf-92424359cc39",
   "metadata": {},
   "outputs": [],
   "source": [
    "words=['Dhamma','python','checkpoints','last']\n",
    "words.reverse()"
   ]
  },
  {
   "cell_type": "code",
   "execution_count": 73,
   "id": "93d8f36e-394d-4426-9ebe-549aefeefe8f",
   "metadata": {},
   "outputs": [
    {
     "name": "stdout",
     "output_type": "stream",
     "text": [
      "['last', 'checkpoints', 'python', 'Dhamma']\n"
     ]
    }
   ],
   "source": [
    "print(words)"
   ]
  },
  {
   "cell_type": "code",
   "execution_count": 74,
   "id": "498fe485-c9a3-4e1f-a934-e111ca9f6c48",
   "metadata": {},
   "outputs": [
    {
     "name": "stdout",
     "output_type": "stream",
     "text": [
      "[2, 6, 48, 68, 46, 86, 66, 108, 150, 64]\n"
     ]
    }
   ],
   "source": [
    "num=[1,3,24,34,23,43,33,54,75,32]\n",
    "double=[n+n for n in num]\n",
    "print(double)"
   ]
  },
  {
   "cell_type": "code",
   "execution_count": null,
   "id": "f43e1000-ea78-4f3f-9774-b51f3b4905a2",
   "metadata": {},
   "outputs": [],
   "source": []
  }
 ],
 "metadata": {
  "kernelspec": {
   "display_name": "Python 3 (ipykernel)",
   "language": "python",
   "name": "python3"
  },
  "language_info": {
   "codemirror_mode": {
    "name": "ipython",
    "version": 3
   },
   "file_extension": ".py",
   "mimetype": "text/x-python",
   "name": "python",
   "nbconvert_exporter": "python",
   "pygments_lexer": "ipython3",
   "version": "3.11.7"
  }
 },
 "nbformat": 4,
 "nbformat_minor": 5
}
