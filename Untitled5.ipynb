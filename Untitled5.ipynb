{
 "cells": [
  {
   "cell_type": "code",
   "execution_count": 6,
   "id": "792a5221-ce43-4bd4-82d2-60804758abf9",
   "metadata": {},
   "outputs": [],
   "source": [
    "list=[212,43435,644,8797,34]"
   ]
  },
  {
   "cell_type": "code",
   "execution_count": 7,
   "id": "9b295692-2024-491b-8774-228552c351cb",
   "metadata": {},
   "outputs": [
    {
     "data": {
      "text/plain": [
       "[212, 43435, 644, 8797, 34]"
      ]
     },
     "execution_count": 7,
     "metadata": {},
     "output_type": "execute_result"
    }
   ],
   "source": [
    "list"
   ]
  },
  {
   "cell_type": "code",
   "execution_count": 8,
   "id": "24cc119e-4b91-4a93-a029-67dcb0351cfe",
   "metadata": {},
   "outputs": [
    {
     "name": "stdout",
     "output_type": "stream",
     "text": [
      "212\n"
     ]
    }
   ],
   "source": [
    "print(list[0])"
   ]
  },
  {
   "cell_type": "code",
   "execution_count": 1,
   "id": "b92df1e3-1056-4915-90c1-8e596234c2c2",
   "metadata": {},
   "outputs": [],
   "source": [
    "set={1,2,34,5,5332,3,23}"
   ]
  },
  {
   "cell_type": "code",
   "execution_count": 2,
   "id": "637def24-80f6-4a2e-a4d0-353cf091f363",
   "metadata": {},
   "outputs": [
    {
     "data": {
      "text/plain": [
       "{1, 2, 3, 5, 23, 34, 5332}"
      ]
     },
     "execution_count": 2,
     "metadata": {},
     "output_type": "execute_result"
    }
   ],
   "source": [
    "set\n"
   ]
  },
  {
   "cell_type": "code",
   "execution_count": 4,
   "id": "0f1b29e7-e00a-469a-9301-aea70ae09657",
   "metadata": {},
   "outputs": [],
   "source": [
    "set.add(1)"
   ]
  },
  {
   "cell_type": "code",
   "execution_count": 5,
   "id": "be423e4e-592b-4d76-95bc-8876891fa597",
   "metadata": {},
   "outputs": [
    {
     "data": {
      "text/plain": [
       "{1, 2, 3, 5, 23, 34, 5332}"
      ]
     },
     "execution_count": 5,
     "metadata": {},
     "output_type": "execute_result"
    }
   ],
   "source": [
    "set\n"
   ]
  },
  {
   "cell_type": "code",
   "execution_count": 6,
   "id": "2e540ce5-9a02-4388-ae61-545e34abee5e",
   "metadata": {},
   "outputs": [],
   "source": [
    "set.add(69)"
   ]
  },
  {
   "cell_type": "code",
   "execution_count": 7,
   "id": "2511d45b-42f2-43ea-bc58-53242462ddcf",
   "metadata": {},
   "outputs": [
    {
     "data": {
      "text/plain": [
       "{1, 2, 3, 5, 23, 34, 69, 5332}"
      ]
     },
     "execution_count": 7,
     "metadata": {},
     "output_type": "execute_result"
    }
   ],
   "source": [
    "set\n"
   ]
  },
  {
   "cell_type": "code",
   "execution_count": 9,
   "id": "aac231e9-20ab-4fbe-a965-9a6f80ca880b",
   "metadata": {},
   "outputs": [],
   "source": [
    "set.update([1,2,3,4,5,6],(7,8,9,10),{12,13,14,144})"
   ]
  },
  {
   "cell_type": "code",
   "execution_count": 10,
   "id": "28248f2a-7891-4e30-a5d6-50285c368e97",
   "metadata": {},
   "outputs": [
    {
     "data": {
      "text/plain": [
       "{1, 2, 3, 4, 5, 6, 7, 8, 9, 10, 12, 13, 14, 23, 34, 69, 144, 5332}"
      ]
     },
     "execution_count": 10,
     "metadata": {},
     "output_type": "execute_result"
    }
   ],
   "source": [
    "set"
   ]
  },
  {
   "cell_type": "code",
   "execution_count": 11,
   "id": "4cbf86fa-f62f-4b27-9461-70a549b596e9",
   "metadata": {},
   "outputs": [],
   "source": [
    "set1={1,2,3,4}\n",
    "set2={5,6,7,8}"
   ]
  },
  {
   "cell_type": "code",
   "execution_count": 12,
   "id": "076cfe2a-618b-46e9-8124-f25ee061a4ae",
   "metadata": {},
   "outputs": [
    {
     "data": {
      "text/plain": [
       "{1, 2, 3, 4, 5, 6, 7, 8}"
      ]
     },
     "execution_count": 12,
     "metadata": {},
     "output_type": "execute_result"
    }
   ],
   "source": [
    "set1|set2"
   ]
  },
  {
   "cell_type": "code",
   "execution_count": 13,
   "id": "ac548aae-7f2e-4bc8-8458-3e3a09e7d7c7",
   "metadata": {},
   "outputs": [],
   "source": [
    "set1.update([5,7,9])"
   ]
  },
  {
   "cell_type": "code",
   "execution_count": 14,
   "id": "c37bc499-c6be-46df-991a-8dd89dccc9b6",
   "metadata": {},
   "outputs": [
    {
     "data": {
      "text/plain": [
       "{1, 2, 3, 4, 5, 6, 7, 8, 9}"
      ]
     },
     "execution_count": 14,
     "metadata": {},
     "output_type": "execute_result"
    }
   ],
   "source": [
    "set1|set2"
   ]
  },
  {
   "cell_type": "code",
   "execution_count": 15,
   "id": "cce530af-aaca-48b6-9776-10b9cb1bb317",
   "metadata": {},
   "outputs": [
    {
     "data": {
      "text/plain": [
       "{5, 7}"
      ]
     },
     "execution_count": 15,
     "metadata": {},
     "output_type": "execute_result"
    }
   ],
   "source": [
    "set1&set2"
   ]
  },
  {
   "cell_type": "code",
   "execution_count": 16,
   "id": "299e892e-3f0a-4f48-9f81-63051fda72a1",
   "metadata": {},
   "outputs": [
    {
     "data": {
      "text/plain": [
       "{1, 2, 3, 4, 6, 8, 9}"
      ]
     },
     "execution_count": 16,
     "metadata": {},
     "output_type": "execute_result"
    }
   ],
   "source": [
    "set1^set2"
   ]
  },
  {
   "cell_type": "code",
   "execution_count": 17,
   "id": "d3ece829-2d39-44ec-8829-a4aaacd8f761",
   "metadata": {},
   "outputs": [
    {
     "data": {
      "text/plain": [
       "{1, 2, 3, 4, 9}"
      ]
     },
     "execution_count": 17,
     "metadata": {},
     "output_type": "execute_result"
    }
   ],
   "source": [
    "set1-set2"
   ]
  },
  {
   "cell_type": "code",
   "execution_count": 18,
   "id": "1b4c0b47-3d74-4f76-aa28-e1cbc0f75275",
   "metadata": {},
   "outputs": [],
   "source": [
    "course_students={'ashu','dhamma','prajwal','mandar','shivam','bittu','tukki'}\n",
    "project_students={'ashu','dhamma','raj','sumedh'}\n",
    "graduated_students={'ashu','dhamma','prajwal','shivam'}"
   ]
  },
  {
   "cell_type": "code",
   "execution_count": 20,
   "id": "a8c4b1d2-1203-4787-9aa6-56b3ecae82f5",
   "metadata": {},
   "outputs": [
    {
     "data": {
      "text/plain": [
       "{'ashu',\n",
       " 'bittu',\n",
       " 'dhamma',\n",
       " 'mandar',\n",
       " 'prajwal',\n",
       " 'raj',\n",
       " 'shivam',\n",
       " 'sumedh',\n",
       " 'tukki'}"
      ]
     },
     "execution_count": 20,
     "metadata": {},
     "output_type": "execute_result"
    }
   ],
   "source": [
    "course_students|project_students"
   ]
  },
  {
   "cell_type": "code",
   "execution_count": 24,
   "id": "032f7092-d180-4ab1-be68-1a8ff5ee261e",
   "metadata": {},
   "outputs": [
    {
     "data": {
      "text/plain": [
       "{'ashu', 'dhamma'}"
      ]
     },
     "execution_count": 24,
     "metadata": {},
     "output_type": "execute_result"
    }
   ],
   "source": [
    "course_students&project_students"
   ]
  },
  {
   "cell_type": "code",
   "execution_count": 25,
   "id": "51a51af7-0b86-44a8-822f-9b340341ee35",
   "metadata": {},
   "outputs": [
    {
     "data": {
      "text/plain": [
       "{'bittu', 'mandar', 'prajwal', 'shivam', 'tukki'}"
      ]
     },
     "execution_count": 25,
     "metadata": {},
     "output_type": "execute_result"
    }
   ],
   "source": [
    "course_students-project_students"
   ]
  },
  {
   "cell_type": "code",
   "execution_count": 26,
   "id": "5617ae7f-01e6-436b-8908-99d54d76d21f",
   "metadata": {},
   "outputs": [
    {
     "data": {
      "text/plain": [
       "{'raj', 'sumedh'}"
      ]
     },
     "execution_count": 26,
     "metadata": {},
     "output_type": "execute_result"
    }
   ],
   "source": [
    "project_students-course_students"
   ]
  },
  {
   "cell_type": "code",
   "execution_count": null,
   "id": "4cb642ba-e0b7-4326-a817-e6e7afa13b46",
   "metadata": {},
   "outputs": [],
   "source": []
  }
 ],
 "metadata": {
  "kernelspec": {
   "display_name": "Python 3 (ipykernel)",
   "language": "python",
   "name": "python3"
  },
  "language_info": {
   "codemirror_mode": {
    "name": "ipython",
    "version": 3
   },
   "file_extension": ".py",
   "mimetype": "text/x-python",
   "name": "python",
   "nbconvert_exporter": "python",
   "pygments_lexer": "ipython3",
   "version": "3.11.7"
  }
 },
 "nbformat": 4,
 "nbformat_minor": 5
}
