{
 "cells": [
  {
   "cell_type": "code",
   "execution_count": 2,
   "id": "3e180191-76b0-4162-86ef-6c064ef73a06",
   "metadata": {},
   "outputs": [],
   "source": [
    "#Decorator\n"
   ]
  },
  {
   "cell_type": "code",
   "execution_count": 4,
   "id": "a11a54b4-7ae6-4714-af58-1d699aec0f51",
   "metadata": {},
   "outputs": [],
   "source": [
    "def show():\n",
    "    print(\"Welcome to AI Nexus\")"
   ]
  },
  {
   "cell_type": "code",
   "execution_count": 13,
   "id": "df76a7b5-0566-43f6-a889-752fd4292f44",
   "metadata": {},
   "outputs": [],
   "source": [
    "def star(funct):\n",
    "    def inner():\n",
    "        print(\"*\" * 20)\n",
    "        funct()\n",
    "        print(\"*\" * 20)\n",
    "    return inner"
   ]
  },
  {
   "cell_type": "code",
   "execution_count": 14,
   "id": "3a870f84-0b44-4bcb-9b29-7162938b9589",
   "metadata": {},
   "outputs": [],
   "source": [
    "@star\n",
    "def show():\n",
    "    print(\"Welcome to AI Nexus\")"
   ]
  },
  {
   "cell_type": "code",
   "execution_count": 15,
   "id": "2cb7c9b7-e44e-4391-82b8-e44bb8213be7",
   "metadata": {},
   "outputs": [
    {
     "name": "stdout",
     "output_type": "stream",
     "text": [
      "********************\n",
      "Welcome to AI Nexus\n",
      "********************\n"
     ]
    }
   ],
   "source": [
    "show()"
   ]
  },
  {
   "cell_type": "code",
   "execution_count": 26,
   "id": "2b43d653-a01e-4a6b-9d9b-25480e667aca",
   "metadata": {},
   "outputs": [],
   "source": [
    "@db_connect\n",
    "def copper():\n",
    "    print(\"Add files of copper\")\n",
    "\n",
    "@db_connect\n",
    "def gold():\n",
    "    print(\"Add files of gold\")\n",
    "\n",
    "@db_connect\n",
    "def silver():\n",
    "    print(\"Add files of silver\")\n",
    "    "
   ]
  },
  {
   "cell_type": "code",
   "execution_count": 25,
   "id": "3c3ed75a-3808-4e97-8d6a-f64ecd360d6e",
   "metadata": {},
   "outputs": [],
   "source": [
    "def db_connect(connect):\n",
    "    def inner():\n",
    "        print(\"Connect to Database\")\n",
    "        connect()\n",
    "        print(\"Terminate the connection\")\n",
    "    return inner\n",
    "    "
   ]
  },
  {
   "cell_type": "code",
   "execution_count": 27,
   "id": "b6b4071f-c743-4645-81a6-cd357ee491ec",
   "metadata": {},
   "outputs": [
    {
     "name": "stdout",
     "output_type": "stream",
     "text": [
      "Connect to Database\n",
      "Add files of copper\n",
      "Terminate the connection\n"
     ]
    }
   ],
   "source": [
    "copper()"
   ]
  },
  {
   "cell_type": "code",
   "execution_count": 28,
   "id": "c0ac0d3a-0031-4669-a730-4dbc6cde4638",
   "metadata": {},
   "outputs": [
    {
     "name": "stdout",
     "output_type": "stream",
     "text": [
      "Connect to Database\n",
      "Add files of gold\n",
      "Terminate the connection\n"
     ]
    }
   ],
   "source": [
    "gold()"
   ]
  },
  {
   "cell_type": "code",
   "execution_count": 29,
   "id": "30676fbc-9fb6-4964-b87c-6763a5e37e06",
   "metadata": {},
   "outputs": [
    {
     "name": "stdout",
     "output_type": "stream",
     "text": [
      "Connect to Database\n",
      "Add files of silver\n",
      "Terminate the connection\n"
     ]
    }
   ],
   "source": [
    "silver()"
   ]
  },
  {
   "cell_type": "code",
   "execution_count": 31,
   "id": "7b12f115-ee97-4e80-bffd-a2e27a2704c2",
   "metadata": {},
   "outputs": [],
   "source": [
    "#Authentication"
   ]
  },
  {
   "cell_type": "code",
   "execution_count": 69,
   "id": "1b33819e-ada4-45cb-8e96-51b6b57ae846",
   "metadata": {},
   "outputs": [
    {
     "name": "stdin",
     "output_type": "stream",
     "text": [
      "Enter the username:  Dhammadeep\n",
      "Enter the password:  Deep@0201    \n"
     ]
    },
    {
     "name": "stdout",
     "output_type": "stream",
     "text": [
      "Connection Established\n",
      "Reading this File\n",
      "Connection Terminated\n"
     ]
    }
   ],
   "source": [
    "username='Dhammadeep'\n",
    "password='Deep@0201'\n",
    "\n",
    "def login(funct):\n",
    "    def check():\n",
    "        uname=input(\"Enter the username: \").strip()\n",
    "        pword=input(\"Enter the password: \").strip()\n",
    "        if uname == username and password == pword:\n",
    "            print(\"Connection Established\")\n",
    "            funct()\n",
    "            print(\"Connection Terminated\")\n",
    "        else:\n",
    "            print(\"Enter valid login details\")\n",
    "    return check\n",
    "        \n",
    "@login\n",
    "def authentication():\n",
    "    print(\"Reading this File\")\n",
    "\n",
    "authentication()"
   ]
  },
  {
   "cell_type": "code",
   "execution_count": null,
   "id": "79fda633-6c47-48f6-af03-d336df87a4d1",
   "metadata": {},
   "outputs": [],
   "source": [
    "\n"
   ]
  },
  {
   "cell_type": "code",
   "execution_count": null,
   "id": "0ca91715-faad-47f3-af2f-c9a71e7f6ff2",
   "metadata": {},
   "outputs": [],
   "source": []
  }
 ],
 "metadata": {
  "kernelspec": {
   "display_name": "Python 3 (ipykernel)",
   "language": "python",
   "name": "python3"
  },
  "language_info": {
   "codemirror_mode": {
    "name": "ipython",
    "version": 3
   },
   "file_extension": ".py",
   "mimetype": "text/x-python",
   "name": "python",
   "nbconvert_exporter": "python",
   "pygments_lexer": "ipython3",
   "version": "3.11.7"
  }
 },
 "nbformat": 4,
 "nbformat_minor": 5
}
