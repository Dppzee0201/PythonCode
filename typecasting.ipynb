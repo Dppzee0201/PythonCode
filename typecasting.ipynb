{
 "cells": [
  {
   "cell_type": "code",
   "execution_count": 1,
   "id": "b21f1f16-684d-4ccd-a3ce-663c6e400390",
   "metadata": {},
   "outputs": [],
   "source": [
    "x=\"42\""
   ]
  },
  {
   "cell_type": "code",
   "execution_count": 2,
   "id": "c3cebc2e-2dbf-400d-8f0c-4df451b2ebac",
   "metadata": {},
   "outputs": [
    {
     "data": {
      "text/plain": [
       "'42'"
      ]
     },
     "execution_count": 2,
     "metadata": {},
     "output_type": "execute_result"
    }
   ],
   "source": [
    "x\n"
   ]
  },
  {
   "cell_type": "code",
   "execution_count": 3,
   "id": "1acb0418-a34b-4ce4-a7f5-7ccc1e8572a8",
   "metadata": {},
   "outputs": [
    {
     "data": {
      "text/plain": [
       "str"
      ]
     },
     "execution_count": 3,
     "metadata": {},
     "output_type": "execute_result"
    }
   ],
   "source": [
    "type(x)"
   ]
  },
  {
   "cell_type": "code",
   "execution_count": 4,
   "id": "2d1933bf-ae3e-4500-ae28-9314bb107644",
   "metadata": {},
   "outputs": [],
   "source": [
    "num=int(x)"
   ]
  },
  {
   "cell_type": "code",
   "execution_count": 5,
   "id": "617098e4-4481-400d-ae51-7090395dc711",
   "metadata": {},
   "outputs": [
    {
     "data": {
      "text/plain": [
       "int"
      ]
     },
     "execution_count": 5,
     "metadata": {},
     "output_type": "execute_result"
    }
   ],
   "source": [
    "type(num)"
   ]
  },
  {
   "cell_type": "code",
   "execution_count": 8,
   "id": "cd194080-ba9e-48d3-bf5a-10e2c8534558",
   "metadata": {},
   "outputs": [],
   "source": [
    "flt=float(x)"
   ]
  },
  {
   "cell_type": "code",
   "execution_count": 11,
   "id": "09535633-97f4-4aa1-bb52-9a2561cca536",
   "metadata": {},
   "outputs": [
    {
     "data": {
      "text/plain": [
       "float"
      ]
     },
     "execution_count": 11,
     "metadata": {},
     "output_type": "execute_result"
    }
   ],
   "source": [
    "type(flt)"
   ]
  },
  {
   "cell_type": "code",
   "execution_count": 12,
   "id": "63142b31-2dcc-48b4-87d0-d6ebef01cb07",
   "metadata": {},
   "outputs": [],
   "source": [
    "list1=list(x)"
   ]
  },
  {
   "cell_type": "code",
   "execution_count": 13,
   "id": "d6206b0c-d5a5-403c-afb2-805596788f91",
   "metadata": {},
   "outputs": [
    {
     "data": {
      "text/plain": [
       "['4', '2']"
      ]
     },
     "execution_count": 13,
     "metadata": {},
     "output_type": "execute_result"
    }
   ],
   "source": [
    "list1"
   ]
  },
  {
   "cell_type": "code",
   "execution_count": 14,
   "id": "f7da0db8-b328-4b30-be54-df9301b2affa",
   "metadata": {},
   "outputs": [],
   "source": [
    "tuple1=tuple(x)"
   ]
  },
  {
   "cell_type": "code",
   "execution_count": 15,
   "id": "292cfd96-bba5-414e-bce7-5063da5f5030",
   "metadata": {},
   "outputs": [
    {
     "data": {
      "text/plain": [
       "('4', '2')"
      ]
     },
     "execution_count": 15,
     "metadata": {},
     "output_type": "execute_result"
    }
   ],
   "source": [
    "tuple1"
   ]
  },
  {
   "cell_type": "code",
   "execution_count": 16,
   "id": "bcecd499-71cb-4432-b19d-d392ff092d96",
   "metadata": {},
   "outputs": [],
   "source": [
    "set1=set(x)"
   ]
  },
  {
   "cell_type": "code",
   "execution_count": 17,
   "id": "a0175d87-96d9-4f7e-a946-fa6775186150",
   "metadata": {},
   "outputs": [
    {
     "data": {
      "text/plain": [
       "{'2', '4'}"
      ]
     },
     "execution_count": 17,
     "metadata": {},
     "output_type": "execute_result"
    }
   ],
   "source": [
    "set1"
   ]
  },
  {
   "cell_type": "code",
   "execution_count": 20,
   "id": "c4f676c2-7c0f-4124-8314-9d8a76213807",
   "metadata": {},
   "outputs": [],
   "source": [
    "p1={32}"
   ]
  },
  {
   "cell_type": "code",
   "execution_count": 21,
   "id": "04fbbf5b-8f49-49ed-aaa1-c1d6c0173d6a",
   "metadata": {},
   "outputs": [],
   "source": [
    "p2={2323}"
   ]
  },
  {
   "cell_type": "code",
   "execution_count": 31,
   "id": "ad1e3d92-3965-4855-ac87-106196a996e5",
   "metadata": {},
   "outputs": [],
   "source": [
    "result=bool(x)"
   ]
  },
  {
   "cell_type": "code",
   "execution_count": 32,
   "id": "574b4e0b-064c-4e49-8a2e-5ae915781775",
   "metadata": {},
   "outputs": [
    {
     "data": {
      "text/plain": [
       "True"
      ]
     },
     "execution_count": 32,
     "metadata": {},
     "output_type": "execute_result"
    }
   ],
   "source": [
    "result\n"
   ]
  },
  {
   "cell_type": "code",
   "execution_count": 33,
   "id": "6fb78067-b36e-4c8c-8e6f-7f205e85ed20",
   "metadata": {},
   "outputs": [],
   "source": [
    "result=complex(x)"
   ]
  },
  {
   "cell_type": "code",
   "execution_count": 34,
   "id": "b5d6a8e9-b9b8-43bb-a404-1f1e3c7a7b35",
   "metadata": {},
   "outputs": [
    {
     "data": {
      "text/plain": [
       "(42+0j)"
      ]
     },
     "execution_count": 34,
     "metadata": {},
     "output_type": "execute_result"
    }
   ],
   "source": [
    "result"
   ]
  },
  {
   "cell_type": "code",
   "execution_count": 43,
   "id": "457a761b-1ece-46fd-b69e-73b4de644454",
   "metadata": {},
   "outputs": [],
   "source": [
    "result=4343+434.34"
   ]
  },
  {
   "cell_type": "code",
   "execution_count": 44,
   "id": "bf1e13ff-0a9d-4a96-8ec5-26ad7070aa21",
   "metadata": {},
   "outputs": [
    {
     "data": {
      "text/plain": [
       "4777.34"
      ]
     },
     "execution_count": 44,
     "metadata": {},
     "output_type": "execute_result"
    }
   ],
   "source": [
    "result"
   ]
  },
  {
   "cell_type": "code",
   "execution_count": null,
   "id": "c441a434-2ffd-4863-a08e-dab372b9cee4",
   "metadata": {},
   "outputs": [],
   "source": []
  }
 ],
 "metadata": {
  "kernelspec": {
   "display_name": "Python 3 (ipykernel)",
   "language": "python",
   "name": "python3"
  },
  "language_info": {
   "codemirror_mode": {
    "name": "ipython",
    "version": 3
   },
   "file_extension": ".py",
   "mimetype": "text/x-python",
   "name": "python",
   "nbconvert_exporter": "python",
   "pygments_lexer": "ipython3",
   "version": "3.11.7"
  }
 },
 "nbformat": 4,
 "nbformat_minor": 5
}
