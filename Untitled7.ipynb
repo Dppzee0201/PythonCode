{
 "cells": [
  {
   "cell_type": "code",
   "execution_count": 1,
   "id": "6caea300-810e-4159-90ed-e46d69042eda",
   "metadata": {},
   "outputs": [],
   "source": [
    "string=\"Hello, World!\"\n"
   ]
  },
  {
   "cell_type": "code",
   "execution_count": 3,
   "id": "96a7f145-c99a-40b7-a62e-a2b3b2ff1361",
   "metadata": {},
   "outputs": [
    {
     "data": {
      "text/plain": [
       "13"
      ]
     },
     "execution_count": 3,
     "metadata": {},
     "output_type": "execute_result"
    }
   ],
   "source": [
    "len(string)"
   ]
  },
  {
   "cell_type": "code",
   "execution_count": 5,
   "id": "6b9e28aa-f137-4341-a06c-ecb046f90811",
   "metadata": {},
   "outputs": [
    {
     "data": {
      "text/plain": [
       "'!'"
      ]
     },
     "execution_count": 5,
     "metadata": {},
     "output_type": "execute_result"
    }
   ],
   "source": [
    "string[-1]"
   ]
  },
  {
   "cell_type": "code",
   "execution_count": 6,
   "id": "42419619-7fe8-4883-b0a6-3bde802cc095",
   "metadata": {},
   "outputs": [
    {
     "data": {
      "text/plain": [
       "'Hello, World!'"
      ]
     },
     "execution_count": 6,
     "metadata": {},
     "output_type": "execute_result"
    }
   ],
   "source": [
    "string\n"
   ]
  },
  {
   "cell_type": "code",
   "execution_count": 7,
   "id": "df66cff3-514b-4bc1-8518-a7b2604a25f0",
   "metadata": {},
   "outputs": [
    {
     "data": {
      "text/plain": [
       "'!dlroW ,olleH'"
      ]
     },
     "execution_count": 7,
     "metadata": {},
     "output_type": "execute_result"
    }
   ],
   "source": [
    "string[::-1]"
   ]
  },
  {
   "cell_type": "code",
   "execution_count": 8,
   "id": "e60a1448-8ff8-4906-b328-5ca60b3bb53b",
   "metadata": {},
   "outputs": [],
   "source": [
    "string1=\"This is a test and to calculate the something is the and or and and is or the else is\"\n"
   ]
  },
  {
   "cell_type": "code",
   "execution_count": 9,
   "id": "23a35540-6fe0-4718-8bf3-dffd3fda248f",
   "metadata": {},
   "outputs": [
    {
     "data": {
      "text/plain": [
       "'This is a test and to calculate the something is the and or and and is or the else is'"
      ]
     },
     "execution_count": 9,
     "metadata": {},
     "output_type": "execute_result"
    }
   ],
   "source": [
    "string1\n"
   ]
  },
  {
   "cell_type": "code",
   "execution_count": 17,
   "id": "d46cb9b9-e869-498b-812e-cd08a2eff1e1",
   "metadata": {},
   "outputs": [
    {
     "name": "stdout",
     "output_type": "stream",
     "text": [
      "5\n"
     ]
    }
   ],
   "source": [
    "Count = string1.count(\"is\")\n",
    "print(Count)"
   ]
  },
  {
   "cell_type": "code",
   "execution_count": 22,
   "id": "21ee6e53-9729-4b4a-b51c-176564250bc2",
   "metadata": {},
   "outputs": [
    {
     "name": "stdin",
     "output_type": "stream",
     "text": [
      "Enter the palindrome no: malayalam\n"
     ]
    },
    {
     "name": "stdout",
     "output_type": "stream",
     "text": [
      "The sting is palindorme\n"
     ]
    }
   ],
   "source": [
    "palindrome=input(\"Enter the palindrome no:\")\n",
    "\n",
    "reverse=palindrome[::-1]\n",
    "\n",
    "\n",
    "if palindrome==reverse:\n",
    "    print(\"The sting is palindorme\")\n",
    "else:\n",
    "    print(\"Not palindrome\")"
   ]
  },
  {
   "cell_type": "code",
   "execution_count": 23,
   "id": "df6d397c-1e47-44dc-922b-943069c52fa8",
   "metadata": {},
   "outputs": [],
   "source": [
    "string2=\"This is a bad example of a bad habit\"\n"
   ]
  },
  {
   "cell_type": "code",
   "execution_count": 28,
   "id": "5606efd3-ae8a-4595-b229-9e312713dd25",
   "metadata": {},
   "outputs": [
    {
     "data": {
      "text/plain": [
       "'This is a good example of a good habit'"
      ]
     },
     "execution_count": 28,
     "metadata": {},
     "output_type": "execute_result"
    }
   ],
   "source": [
    "string3=string2.replace('bad','good')\n",
    "string3"
   ]
  },
  {
   "cell_type": "code",
   "execution_count": 31,
   "id": "eea485a8-e1ba-43bc-a2f3-3c8a0335e2d8",
   "metadata": {},
   "outputs": [],
   "source": [
    "email='salwedhammadeep@gmail.com'"
   ]
  },
  {
   "cell_type": "code",
   "execution_count": 34,
   "id": "385ccde1-4012-4084-85e1-cf951cc8647f",
   "metadata": {},
   "outputs": [
    {
     "data": {
      "text/plain": [
       "'gmail.com'"
      ]
     },
     "execution_count": 34,
     "metadata": {},
     "output_type": "execute_result"
    }
   ],
   "source": [
    "email.split('@')[1]"
   ]
  },
  {
   "cell_type": "code",
   "execution_count": 35,
   "id": "580f1ed8-29f7-4f62-91b4-7c1a001c258a",
   "metadata": {},
   "outputs": [],
   "source": [
    "string=\"Beautiful day\""
   ]
  },
  {
   "cell_type": "code",
   "execution_count": 39,
   "id": "93e5f06c-3faa-4aab-8a90-b97e9f05646d",
   "metadata": {},
   "outputs": [],
   "source": [
    "vowel=['a','e','i','o','u']"
   ]
  },
  {
   "cell_type": "code",
   "execution_count": 41,
   "id": "7ca5f1ae-0262-4376-8ea7-f175e315a5a6",
   "metadata": {},
   "outputs": [
    {
     "data": {
      "text/plain": [
       "1"
      ]
     },
     "execution_count": 41,
     "metadata": {},
     "output_type": "execute_result"
    }
   ],
   "source": [
    "for vowel in string:\n",
    "    Count=string.count(vowel)\n",
    "Count"
   ]
  },
  {
   "cell_type": "code",
   "execution_count": 52,
   "id": "d7b85f89-69a3-449f-be46-66103039a892",
   "metadata": {},
   "outputs": [
    {
     "data": {
      "text/plain": [
       "'apple cherry banana'"
      ]
     },
     "execution_count": 52,
     "metadata": {},
     "output_type": "execute_result"
    }
   ],
   "source": [
    "string=(\"apple,cherry,banana\")\n",
    "string1=string.split(',')\n",
    "string1\n",
    "string2=' '.join(string1)\n",
    "string2"
   ]
  },
  {
   "cell_type": "code",
   "execution_count": 63,
   "id": "2d3eca49-9014-4d7b-b572-bf87c8f24dd1",
   "metadata": {},
   "outputs": [
    {
     "name": "stdin",
     "output_type": "stream",
     "text": [
      "Enter the name ff\n",
      "Enter the age 22\n"
     ]
    },
    {
     "data": {
      "text/plain": [
       "'Hello, my name is ff and my age is 22'"
      ]
     },
     "execution_count": 63,
     "metadata": {},
     "output_type": "execute_result"
    }
   ],
   "source": [
    "name=input('Enter the name')\n",
    "age=input('Enter the age')\n",
    "\n",
    "#text=\"Hello, my name is {} and my age is {}\".format(name,age)\n",
    "text1=f\"Hello, my name is {name} and my age is {age}\"\n",
    "\n",
    "text1\n"
   ]
  },
  {
   "cell_type": "code",
   "execution_count": 64,
   "id": "32651a1d-1c39-40ea-b201-817850dce2e5",
   "metadata": {},
   "outputs": [],
   "source": [
    "text=\"a quick brown fox jumps over the lazy dog\""
   ]
  },
  {
   "cell_type": "code",
   "execution_count": 66,
   "id": "47a6ca1c-3735-4cd3-bf8e-18207a3a452d",
   "metadata": {},
   "outputs": [],
   "source": [
    "text1=text.replace('fox','cat')"
   ]
  },
  {
   "cell_type": "code",
   "execution_count": 67,
   "id": "35ec9eae-45b8-46fe-8373-c58c1ebe4990",
   "metadata": {},
   "outputs": [
    {
     "data": {
      "text/plain": [
       "'a quick brown cat jumps over the lazy dog'"
      ]
     },
     "execution_count": 67,
     "metadata": {},
     "output_type": "execute_result"
    }
   ],
   "source": [
    "text1"
   ]
  },
  {
   "cell_type": "code",
   "execution_count": null,
   "id": "0d381c06-9afb-4261-8305-9d13cc75923e",
   "metadata": {},
   "outputs": [],
   "source": []
  }
 ],
 "metadata": {
  "kernelspec": {
   "display_name": "Python 3 (ipykernel)",
   "language": "python",
   "name": "python3"
  },
  "language_info": {
   "codemirror_mode": {
    "name": "ipython",
    "version": 3
   },
   "file_extension": ".py",
   "mimetype": "text/x-python",
   "name": "python",
   "nbconvert_exporter": "python",
   "pygments_lexer": "ipython3",
   "version": "3.11.7"
  }
 },
 "nbformat": 4,
 "nbformat_minor": 5
}
