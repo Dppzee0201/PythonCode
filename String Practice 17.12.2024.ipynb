{
 "cells": [
  {
   "cell_type": "code",
   "execution_count": 1,
   "id": "5d5a2308-1233-4b71-86fe-687caab7dbdb",
   "metadata": {},
   "outputs": [],
   "source": [
    "#string methods\n"
   ]
  },
  {
   "cell_type": "code",
   "execution_count": 4,
   "id": "85e718dc-b321-4635-b7b3-5b57b2de7715",
   "metadata": {},
   "outputs": [],
   "source": [
    "list1=['deep123@gmail.com','fjafj23333333333333333333@gmail.com']"
   ]
  },
  {
   "cell_type": "code",
   "execution_count": 79,
   "id": "4acd8fb9-96d6-42bc-8b8f-f36f4c70b357",
   "metadata": {},
   "outputs": [
    {
     "ename": "AttributeError",
     "evalue": "'list' object has no attribute 'isalpha'",
     "output_type": "error",
     "traceback": [
      "\u001b[1;31m---------------------------------------------------------------------------\u001b[0m",
      "\u001b[1;31mAttributeError\u001b[0m                            Traceback (most recent call last)",
      "Cell \u001b[1;32mIn[79], line 3\u001b[0m\n\u001b[0;32m      1\u001b[0m temp\u001b[38;5;241m=\u001b[39m[]\n\u001b[0;32m      2\u001b[0m \u001b[38;5;28;01mfor\u001b[39;00m i \u001b[38;5;129;01min\u001b[39;00m list1:\n\u001b[1;32m----> 3\u001b[0m     i\u001b[38;5;241m.\u001b[39msplit(\u001b[38;5;124m'\u001b[39m\u001b[38;5;124m@\u001b[39m\u001b[38;5;124m'\u001b[39m)\u001b[38;5;241m.\u001b[39misalpha()\n\u001b[0;32m      4\u001b[0m     temp\u001b[38;5;241m.\u001b[39mappend(i)\n",
      "\u001b[1;31mAttributeError\u001b[0m: 'list' object has no attribute 'isalpha'"
     ]
    }
   ],
   "source": [
    "temp=[]\n",
    "for i in list1:\n",
    "    i.split('@').isalpha()\n",
    "    temp.append(i)"
   ]
  },
  {
   "cell_type": "code",
   "execution_count": 45,
   "id": "10c57f21-7e46-4310-9d9e-27fd21e6192d",
   "metadata": {},
   "outputs": [],
   "source": [
    "string='ALPHA12345'"
   ]
  },
  {
   "cell_type": "code",
   "execution_count": 44,
   "id": "77bb740e-1498-451a-91d9-1ab18d38ce33",
   "metadata": {},
   "outputs": [
    {
     "ename": "SyntaxError",
     "evalue": "expected 'else' after 'if' expression (953023079.py, line 1)",
     "output_type": "error",
     "traceback": [
      "\u001b[1;36m  Cell \u001b[1;32mIn[44], line 1\u001b[1;36m\u001b[0m\n\u001b[1;33m    alphabet=(lambda x:x.append() if x.isalpha(),string=alpha123456)\u001b[0m\n\u001b[1;37m                       ^\u001b[0m\n\u001b[1;31mSyntaxError\u001b[0m\u001b[1;31m:\u001b[0m expected 'else' after 'if' expression\n"
     ]
    }
   ],
   "source": [
    "result="
   ]
  },
  {
   "cell_type": "code",
   "execution_count": 37,
   "id": "4d525665-243b-420a-9374-fa55a4e72ff1",
   "metadata": {},
   "outputs": [
    {
     "name": "stdout",
     "output_type": "stream",
     "text": [
      "ALPHA\n"
     ]
    }
   ],
   "source": [
    "list1=[]\n",
    "for element in string:\n",
    "    if element.isalpha():\n",
    "        list1.append(element)\n",
    "result=''.join(list1)\n",
    "print(result)\n",
    "\n",
    "\n",
    "\n"
   ]
  },
  {
   "cell_type": "code",
   "execution_count": 32,
   "id": "c242fb9f-1fd3-4615-9c78-a7778c048704",
   "metadata": {},
   "outputs": [
    {
     "name": "stdout",
     "output_type": "stream",
     "text": [
      "30\n"
     ]
    }
   ],
   "source": [
    "a,b=10,20\n",
    "print(a+b)"
   ]
  },
  {
   "cell_type": "code",
   "execution_count": 53,
   "id": "2fc7d48f-88b3-4180-9f25-b5931f93885c",
   "metadata": {},
   "outputs": [],
   "source": []
  },
  {
   "cell_type": "code",
   "execution_count": 62,
   "id": "24bc11bc-59a4-426b-a39a-2ff2c1291aec",
   "metadata": {},
   "outputs": [
    {
     "ename": "AttributeError",
     "evalue": "'list' object has no attribute 'split'",
     "output_type": "error",
     "traceback": [
      "\u001b[1;31m---------------------------------------------------------------------------\u001b[0m",
      "\u001b[1;31mAttributeError\u001b[0m                            Traceback (most recent call last)",
      "Cell \u001b[1;32mIn[62], line 1\u001b[0m\n\u001b[1;32m----> 1\u001b[0m result\u001b[38;5;241m=\u001b[39mlist1\u001b[38;5;241m.\u001b[39msplit(\u001b[38;5;124m'\u001b[39m\u001b[38;5;124m'\u001b[39m)\n",
      "\u001b[1;31mAttributeError\u001b[0m: 'list' object has no attribute 'split'"
     ]
    }
   ],
   "source": [
    "result=list1.split('')"
   ]
  },
  {
   "cell_type": "code",
   "execution_count": 71,
   "id": "338f7880-3ed3-4d4d-8503-43820c3eb4d9",
   "metadata": {},
   "outputs": [
    {
     "name": "stdout",
     "output_type": "stream",
     "text": [
      "pythoncourse\n"
     ]
    }
   ],
   "source": [
    "list1=['python','course']\n",
    "result=''.join(list1)\n",
    "print(result) "
   ]
  },
  {
   "cell_type": "code",
   "execution_count": 72,
   "id": "475c24fd-b0e0-4cec-8622-059ae447c725",
   "metadata": {},
   "outputs": [],
   "source": []
  },
  {
   "cell_type": "code",
   "execution_count": 84,
   "id": "a52d4fa1-7ea8-46d3-adb2-e9198b408b75",
   "metadata": {},
   "outputs": [
    {
     "ename": "AttributeError",
     "evalue": "'str' object has no attribute 'append'",
     "output_type": "error",
     "traceback": [
      "\u001b[1;31m---------------------------------------------------------------------------\u001b[0m",
      "\u001b[1;31mAttributeError\u001b[0m                            Traceback (most recent call last)",
      "Cell \u001b[1;32mIn[84], line 6\u001b[0m\n\u001b[0;32m      4\u001b[0m \u001b[38;5;28;01mfor\u001b[39;00m email \u001b[38;5;129;01min\u001b[39;00m random:\n\u001b[0;32m      5\u001b[0m     \u001b[38;5;28;01mif\u001b[39;00m email\u001b[38;5;241m.\u001b[39misalnum():\n\u001b[1;32m----> 6\u001b[0m         email\u001b[38;5;241m.\u001b[39mappend(alnum)\n\u001b[0;32m      7\u001b[0m     \u001b[38;5;28mprint\u001b[39m(alnum)\n",
      "\u001b[1;31mAttributeError\u001b[0m: 'str' object has no attribute 'append'"
     ]
    }
   ],
   "source": [
    "emails=['random123@gmail.com','Hello1234@gmail.com','shivam123@gmail.com','deep@gmail.com','123@gmail.com','123alpha']\n",
    "alnum=[]\n",
    "for email in random:\n",
    "    if email.isalnum() and email.endswith('.com'):\n",
    "        email.append(alnum)\n",
    "    print(alnum)"
   ]
  },
  {
   "cell_type": "code",
   "execution_count": 95,
   "id": "208bcc95-3c1c-4f94-9903-2bb6cfcae970",
   "metadata": {},
   "outputs": [
    {
     "name": "stdout",
     "output_type": "stream",
     "text": [
      "deep123shivam12324yug2324asfaf42425\n"
     ]
    }
   ],
   "source": [
    "alnum=[]\n",
    "random=['deep123','shivam12324','yug2324','asfaf','42425']\n",
    "alphanum=''\n",
    "for i in random:\n",
    "    if i.isalnum():\n",
    "        alphanum+=i\n",
    "print(alphanum)\n",
    "        #alnum.append(i)\n",
    "        #print(i)"
   ]
  },
  {
   "cell_type": "code",
   "execution_count": 98,
   "id": "b16d31b3-5350-4eb6-bbde-ff5b0cc1827e",
   "metadata": {},
   "outputs": [
    {
     "name": "stdin",
     "output_type": "stream",
     "text": [
      "Enter you name Dhammadeep\n"
     ]
    },
    {
     "name": "stdout",
     "output_type": "stream",
     "text": [
      "Your name is Dhammadeep\n",
      "Your name is Dhammadeep\n"
     ]
    }
   ],
   "source": [
    "string=input(\"Enter you name\")\n",
    "\n",
    "print(\"Your name is {}\".format(string))\n",
    "print(f'Your name is {string}')"
   ]
  },
  {
   "cell_type": "code",
   "execution_count": 104,
   "id": "318bc4c2-8884-467c-be41-1ba70306b8b5",
   "metadata": {},
   "outputs": [
    {
     "data": {
      "text/plain": [
       "-1"
      ]
     },
     "execution_count": 104,
     "metadata": {},
     "output_type": "execute_result"
    }
   ],
   "source": [
    "string='Hello there my name is sfdaf'\n",
    "string.find('x')"
   ]
  },
  {
   "cell_type": "code",
   "execution_count": 105,
   "id": "6996ae01-efe4-41d1-990d-c06e0017f982",
   "metadata": {},
   "outputs": [
    {
     "data": {
      "text/plain": [
       "'Hello there my name is Dhammadeep'"
      ]
     },
     "execution_count": 105,
     "metadata": {},
     "output_type": "execute_result"
    }
   ],
   "source": [
    "string='Hello there my name is Deep'\n",
    "string.replace('Deep','Dhammadeep')"
   ]
  },
  {
   "cell_type": "code",
   "execution_count": 106,
   "id": "79778593-8ff0-4e6e-b757-57dc9cc073a5",
   "metadata": {},
   "outputs": [
    {
     "name": "stdout",
     "output_type": "stream",
     "text": [
      "Object `this` not found.\n"
     ]
    }
   ],
   "source": [
    "where do we use this?\n"
   ]
  },
  {
   "cell_type": "code",
   "execution_count": 115,
   "id": "38031e02-9035-4087-a5cb-41b66f656bb9",
   "metadata": {},
   "outputs": [],
   "source": [
    "email=''"
   ]
  },
  {
   "cell_type": "code",
   "execution_count": 117,
   "id": "e8693235-f4ae-4d7b-a8bf-9b691abf0135",
   "metadata": {},
   "outputs": [
    {
     "name": "stdout",
     "output_type": "stream",
     "text": [
      "2\n"
     ]
    }
   ],
   "source": [
    "result=email.count('e')\n",
    "print(result)"
   ]
  },
  {
   "cell_type": "code",
   "execution_count": 120,
   "id": "104fefd2-62c8-426a-8614-3c4e1275b462",
   "metadata": {},
   "outputs": [
    {
     "name": "stdout",
     "output_type": "stream",
     "text": [
      "333\n"
     ]
    }
   ],
   "source": [
    "num=[1,3,53,64,35,65,333]\n",
    "maximum=max(num)\n",
    "print(maximum)"
   ]
  },
  {
   "cell_type": "code",
   "execution_count": 125,
   "id": "9f8b30ef-ca15-44d7-854d-6bf2068c3755",
   "metadata": {},
   "outputs": [
    {
     "data": {
      "text/plain": [
       "2"
      ]
     },
     "execution_count": 125,
     "metadata": {},
     "output_type": "execute_result"
    }
   ],
   "source": [
    "string='Dhammadeep'\n",
    "string.index('a')"
   ]
  },
  {
   "cell_type": "code",
   "execution_count": 134,
   "id": "3c94d6d4-0a7f-4bb2-b2ba-f585cb17a19a",
   "metadata": {},
   "outputs": [
    {
     "data": {
      "text/plain": [
       "'THIS IS A RANDOM NAME'"
      ]
     },
     "execution_count": 134,
     "metadata": {},
     "output_type": "execute_result"
    }
   ],
   "source": [
    "string='this is a random name'\n",
    "Upper=string.upper()\n",
    "string.lower()\n",
    "string.swapcase()\n",
    "string.capitalize()\n",
    "string.title()\n",
    "Upper"
   ]
  },
  {
   "cell_type": "code",
   "execution_count": 137,
   "id": "a072be32-f46e-4383-b100-db3779f5a385",
   "metadata": {},
   "outputs": [
    {
     "data": {
      "text/plain": [
       "'                 Deeep'"
      ]
     },
     "execution_count": 137,
     "metadata": {},
     "output_type": "execute_result"
    }
   ],
   "source": [
    "string='                 Deeep             '\n",
    "string.rstrip()"
   ]
  },
  {
   "cell_type": "code",
   "execution_count": 171,
   "id": "849d3a70-afc6-46cc-9459-faf9e4770f4f",
   "metadata": {},
   "outputs": [],
   "source": [
    "p = \" sdfjknsdf sdfjknsf sdfsdkjfnsd fkjsdfsd fsdmnkf sdjkf sdjkf 54354 4435 klmklm \"\n",
    "p.split()\n",
    "p\n",
    "num=[]\n",
    "# for i in p:\n",
    " #   if i.isnumeric():\n",
    "  #      i.append(num)\n",
    "#print(num)\n",
    "\n"
   ]
  },
  {
   "cell_type": "code",
   "execution_count": 153,
   "id": "3137ad31-10c0-4cf4-9a7b-4c38a874eec1",
   "metadata": {},
   "outputs": [
    {
     "data": {
      "text/plain": [
       "['Dhammadeep', 'salwe']"
      ]
     },
     "execution_count": 153,
     "metadata": {},
     "output_type": "execute_result"
    }
   ],
   "source": [
    "p='Dhammadeep salwe'\n",
    "p.split()"
   ]
  },
  {
   "cell_type": "code",
   "execution_count": 167,
   "id": "1b516257-546c-41a4-a5d7-7d68b782c329",
   "metadata": {},
   "outputs": [
    {
     "ename": "AttributeError",
     "evalue": "'str' object has no attribute 'append'",
     "output_type": "error",
     "traceback": [
      "\u001b[1;31m---------------------------------------------------------------------------\u001b[0m",
      "\u001b[1;31mAttributeError\u001b[0m                            Traceback (most recent call last)",
      "Cell \u001b[1;32mIn[167], line 4\u001b[0m\n\u001b[0;32m      2\u001b[0m \u001b[38;5;28mlist\u001b[39m\u001b[38;5;241m=\u001b[39m[]\n\u001b[0;32m      3\u001b[0m \u001b[38;5;28;01mif\u001b[39;00m string\u001b[38;5;241m.\u001b[39misnumeric():\n\u001b[1;32m----> 4\u001b[0m     string\u001b[38;5;241m.\u001b[39mappend(\u001b[38;5;28mlist\u001b[39m)\n\u001b[0;32m      5\u001b[0m \u001b[38;5;28mprint\u001b[39m(\u001b[38;5;28mlist\u001b[39m)\n",
      "\u001b[1;31mAttributeError\u001b[0m: 'str' object has no attribute 'append'"
     ]
    }
   ],
   "source": [
    "string=\n",
    "list=[]\n",
    "if string.isnumeric():\n",
    "    string.append(list)\n",
    "print(list)"
   ]
  },
  {
   "cell_type": "code",
   "execution_count": 188,
   "id": "0a1def2f-7bd9-405f-84ba-667004eb9c1b",
   "metadata": {},
   "outputs": [
    {
     "name": "stdout",
     "output_type": "stream",
     "text": [
      "343533-54354-4435\n"
     ]
    }
   ],
   "source": [
    "#fetch the numeric values from the given string\n",
    "p = \" sdfjknsdf sdfjknsf 343533 sdfsdkjfnsd fkjsdfsd fsdmnkf sdjkf sdjkf 54354 4435 klmklm \"\n",
    "num=[]\n",
    "for i in p.split():\n",
    "    if i.isnumeric():\n",
    "        num.append(i)\n",
    "result =\"-\".join(num)\n",
    "print(result)\n",
    "\n"
   ]
  },
  {
   "cell_type": "code",
   "execution_count": 209,
   "id": "db98eb19-e1b8-4ce1-9402-a52b195cf0b8",
   "metadata": {},
   "outputs": [
    {
     "name": "stdout",
     "output_type": "stream",
     "text": [
      "python\n"
     ]
    }
   ],
   "source": [
    "p = \"sdfsdf#sdfsdf#sdfsdf#sdfsd@dsfsdf@asdfdf#python@sdafsdf\"\n",
    "if p.__contains__('python'):\n",
    "    print('python')\n"
   ]
  },
  {
   "cell_type": "code",
   "execution_count": 212,
   "id": "6094d6ea-6a99-4f20-851f-4ec71dd740f9",
   "metadata": {},
   "outputs": [
    {
     "data": {
      "text/plain": [
       "'nohtyp'"
      ]
     },
     "execution_count": 212,
     "metadata": {},
     "output_type": "execute_result"
    }
   ],
   "source": [
    "string='python'\n",
    "string[::-1]"
   ]
  },
  {
   "cell_type": "code",
   "execution_count": 216,
   "id": "d1e90a35-bedc-4a78-881e-6e92925eb06d",
   "metadata": {},
   "outputs": [
    {
     "data": {
      "text/plain": [
       "'python'"
      ]
     },
     "execution_count": 216,
     "metadata": {},
     "output_type": "execute_result"
    }
   ],
   "source": [
    "string"
   ]
  },
  {
   "cell_type": "code",
   "execution_count": 233,
   "id": "02786c24-aa5e-42c5-afcb-df565172013f",
   "metadata": {},
   "outputs": [
    {
     "data": {
      "text/plain": [
       "True"
      ]
     },
     "execution_count": 233,
     "metadata": {},
     "output_type": "execute_result"
    }
   ],
   "source": [
    "p = \"sdfsdf#sdfsdf#sdfsdf#sdfsd@dsfsdf@asdfdf#python@sdafsdf\"\n",
    "'python' in p\n"
   ]
  },
  {
   "cell_type": "code",
   "execution_count": null,
   "id": "971859db-ea58-41f6-95c6-4a5bccb467d0",
   "metadata": {},
   "outputs": [],
   "source": []
  }
 ],
 "metadata": {
  "kernelspec": {
   "display_name": "Python 3 (ipykernel)",
   "language": "python",
   "name": "python3"
  },
  "language_info": {
   "codemirror_mode": {
    "name": "ipython",
    "version": 3
   },
   "file_extension": ".py",
   "mimetype": "text/x-python",
   "name": "python",
   "nbconvert_exporter": "python",
   "pygments_lexer": "ipython3",
   "version": "3.11.7"
  }
 },
 "nbformat": 4,
 "nbformat_minor": 5
}
