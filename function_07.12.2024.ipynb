{
 "cells": [
  {
   "cell_type": "code",
   "execution_count": 6,
   "id": "85444fd7-6aa7-425d-b48b-eeb3cb75a7ea",
   "metadata": {},
   "outputs": [
    {
     "name": "stdout",
     "output_type": "stream",
     "text": [
      "Eligiable\n"
     ]
    }
   ],
   "source": [
    "#function\n",
    "\n",
    "def avg(sum1,sum2,sum3):\n",
    "    average=(sum1+sum2+sum3)/3\n",
    "    return average\n",
    "\n",
    "def check(average):\n",
    "    if average > 50:\n",
    "        print(\"Eligiable\")\n",
    "    else:\n",
    "        print(\"Not Eligiable\")\n",
    "\n",
    "average = avg(76,43,88)\n",
    "check(average)"
   ]
  },
  {
   "cell_type": "code",
   "execution_count": 24,
   "id": "09049a2f-6e8a-40e8-81ed-a03757479891",
   "metadata": {},
   "outputs": [],
   "source": [
    "#function with taking inputs(for loop), if sub < 35 :failed, pass: ,average of the sub,\n",
    "#show the percenttage,print message abt the grade, best of 3 subjects print "
   ]
  },
  {
   "cell_type": "code",
   "execution_count": 26,
   "id": "e6c9b417-1821-4816-ad43-0f5162bdae0e",
   "metadata": {},
   "outputs": [
    {
     "name": "stdin",
     "output_type": "stream",
     "text": [
      "Enter the marks for: DSA 56\n",
      "Enter the marks for: Python 76\n",
      "Enter the marks for: Web development 86\n",
      "Enter the marks for: Operating System 86\n",
      "Enter the marks for: DBMS 65\n",
      "Enter the marks for: Networking 65\n"
     ]
    },
    {
     "name": "stdout",
     "output_type": "stream",
     "text": [
      "_______________________________________________________________\n",
      "Congratulations you have passed with 72.33333333333333% and grade of B\n",
      "Your average of best of 3 is 82.66666666666667 and its sum is 248\n"
     ]
    }
   ],
   "source": [
    "#SHE BANG\n",
    "'''This is a code to \n",
    "    take the input from the user\n",
    "    cal if pass or fail\n",
    "    if fail end the process\n",
    "    else cal percentage \n",
    "    cal grade \n",
    "    cal best of 3 '''\n",
    "\n",
    "\n",
    "subject=['DSA','Python','Web development','Operating System','DBMS','Networking']\n",
    "\n",
    "def user_input():\n",
    "    marks=[]\n",
    "    for i in subject:\n",
    "        marks.append(int(input(\"Enter the marks for: {}\".format(i))))\n",
    "    return marks\n",
    "\n",
    "    \n",
    "def check(marks):\n",
    "    passed={}\n",
    "    failed={}\n",
    "    for i in range(len(marks)):\n",
    "        if marks[i] > 35:\n",
    "            passed[subject[i]]=marks[i]\n",
    "        else:\n",
    "            failed[subject[i]]=marks[i]\n",
    "    return passed,failed\n",
    "        \n",
    "def avg(marks):\n",
    "    average=sum(marks)/len(subject)\n",
    "    return average\n",
    "\n",
    "def grade(percentage):\n",
    "    if 35<=percentage<60:\n",
    "        return 'D'\n",
    "    elif 60<percentage<70:\n",
    "        return 'C'\n",
    "    elif 70<percentage<80:\n",
    "        return 'B'\n",
    "    elif 80<percentage<90:\n",
    "        return 'A'\n",
    "    else:\n",
    "        return 'O'\n",
    "\n",
    "def best3(marks):\n",
    "    marks.sort(reverse=True)\n",
    "    B_sum=sum(marks[:3])\n",
    "    B_avg=B_sum/3\n",
    "    return B_sum,B_avg\n",
    "\n",
    "\n",
    "\n",
    "def main():\n",
    "    marks=user_input()\n",
    "    print(\"_______________________________________________________________\")\n",
    "    passed,failed=check(marks)\n",
    "    percentage=avg(marks)\n",
    "    B_sum,B_avg=best3(marks)\n",
    "    if failed:\n",
    "        print(\"You have failed,Try next year\")\n",
    "    else:\n",
    "        Grade=grade(percentage)\n",
    "        print(\"Congratulations you have passed with {}% and grade of {}\".format(percentage,Grade))\n",
    "        print(\"Your average of best of 3 is {} and its sum is {}\".format(B_avg,B_sum))\n",
    "\n",
    "\n",
    "if __name__ == \"__main__\":\n",
    "    main()"
   ]
  },
  {
   "cell_type": "code",
   "execution_count": null,
   "id": "2b130131-ee76-40b6-804c-2bff44943ab1",
   "metadata": {},
   "outputs": [],
   "source": []
  }
 ],
 "metadata": {
  "kernelspec": {
   "display_name": "Python 3 (ipykernel)",
   "language": "python",
   "name": "python3"
  },
  "language_info": {
   "codemirror_mode": {
    "name": "ipython",
    "version": 3
   },
   "file_extension": ".py",
   "mimetype": "text/x-python",
   "name": "python",
   "nbconvert_exporter": "python",
   "pygments_lexer": "ipython3",
   "version": "3.11.7"
  }
 },
 "nbformat": 4,
 "nbformat_minor": 5
}
