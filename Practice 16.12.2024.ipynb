{
 "cells": [
  {
   "cell_type": "code",
   "execution_count": 1,
   "id": "c9b64fc2-98e9-4f3f-b7f5-ee347e92e948",
   "metadata": {},
   "outputs": [
    {
     "data": {
      "text/plain": [
       "'C:\\\\Users\\\\Dppzee'"
      ]
     },
     "execution_count": 1,
     "metadata": {},
     "output_type": "execute_result"
    }
   ],
   "source": [
    "pwd"
   ]
  },
  {
   "cell_type": "code",
   "execution_count": 2,
   "id": "c8193ad4-1274-4be4-9198-13bbb68c5cf5",
   "metadata": {},
   "outputs": [],
   "source": [
    "result=(lambda x,y:x+y)(20,30)"
   ]
  },
  {
   "cell_type": "code",
   "execution_count": null,
   "id": "88b8a1b3-c3ce-4aae-84c6-7522bf769f1b",
   "metadata": {},
   "outputs": [],
   "source": []
  },
  {
   "cell_type": "code",
   "execution_count": 3,
   "id": "7ae46165-e7ce-4503-ac0d-d794ff53ab61",
   "metadata": {},
   "outputs": [
    {
     "name": "stdout",
     "output_type": "stream",
     "text": [
      "[25, 75]\n"
     ]
    }
   ],
   "source": [
    "list1=[20,30]\n",
    "list2=[5,45]\n",
    "result=map(lambda x,y:x+y, list1,list2)\n",
    "print(list(result))"
   ]
  },
  {
   "cell_type": "code",
   "execution_count": 4,
   "id": "ccc2baec-41ba-494f-96a8-57fd9de920e4",
   "metadata": {},
   "outputs": [
    {
     "name": "stdout",
     "output_type": "stream",
     "text": [
      "<map object at 0x000002788574B520>\n"
     ]
    }
   ],
   "source": [
    "print(result)"
   ]
  },
  {
   "cell_type": "code",
   "execution_count": 5,
   "id": "08a40d7d-7029-4078-a5b7-580c3133be7f",
   "metadata": {},
   "outputs": [
    {
     "name": "stdout",
     "output_type": "stream",
     "text": [
      "[144, 17956, 27, 153130375, 1156, 12167, 33698267, 18974736, 16, 1936]\n"
     ]
    }
   ],
   "source": [
    "numbers=[12,134,3,535,34,23,323,4356,4,44]\n",
    "result = map(lambda x: x**2 if x % 2 == 0 else x**3, numbers)\n",
    "print(list(result))"
   ]
  },
  {
   "cell_type": "code",
   "execution_count": 6,
   "id": "1b896a85-7372-44c0-bac3-fb5e6893126b",
   "metadata": {},
   "outputs": [
    {
     "name": "stdout",
     "output_type": "stream",
     "text": [
      "[1, 4, 9, 16, 25, 36, 49, 64, 81, 100]\n"
     ]
    }
   ],
   "source": [
    "list1=[1,2,3,4,5,6,7,8,9,10]\n",
    "result=map(lambda x:x**2,list1)\n",
    "print(list(result))"
   ]
  },
  {
   "cell_type": "code",
   "execution_count": 7,
   "id": "6a3cdde1-5cff-4994-a950-173ecb95a47c",
   "metadata": {},
   "outputs": [
    {
     "name": "stdout",
     "output_type": "stream",
     "text": [
      "['user1@example.com', 'user2@example.com', 'user3@example.com', 'user4@example.com', 'user5@example.com', 'user6@example.com', 'user7@example.com', 'user8@example.com', 'user9@example.com', 'user10@example.com', 'user11@example.com', 'user12@example.com', 'user13@example.com', 'user14@example.com', 'user15@example.com', 'user16@example.com', 'user17@example.com', 'user18@example.com', 'user19@example.com', 'user20@example.com', 'user21@example.com', 'user22@example.com', 'user23@example.com', 'user24@example.com', 'user25@example.com', 'user26@example.com', 'user27@example.com', 'user28@example.com', 'user29@example.com', 'user30@example.com', 'user31@example.com', 'user32@example.com', 'user33@example.com', 'user34@example.com', 'user35@example.com', 'user36@example.com', 'user37@example.com', 'user38@example.com', 'user39@example.com', 'user40@example.com', 'user41@example.com', 'user42@example.com', 'user43@example.com', 'user44@example.com', 'user45@example.com', 'user46@example.com', 'user47@example.com', 'user48@example.com', 'user49@example.com', 'user50@example.com', 'user51@example.com', 'user52@example.com', 'user53@example.com', 'user54@example.com', 'user55@example.com', 'user56@example.com', 'user57@example.com', 'user58@example.com', 'user59@example.com', 'user60@example.com', 'user61@example.com', 'user62@example.com', 'user63@example.com', 'user64@example.com', 'user65@example.com', 'user66@example.com', 'user67@example.com', 'user68@example.com', 'user69@example.com', 'user70@example.com', 'user71@example.com', 'user72@example.com', 'user73@example.com', 'user74@example.com', 'user75@example.com', 'user76@example.com', 'user77@example.com', 'user78@example.com', 'user79@example.com', 'user80@example.com', 'user81@example.com', 'user82@example.com', 'user83@example.com', 'user84@example.com', 'user85@example.com', 'user86@example.com', 'user87@example.com', 'user88@example.com', 'user89@example.com', 'user90@example.com', 'user91@example.com', 'user92@example.com', 'user93@example.com', 'user94@example.com', 'user95@example.com', 'user96@example.com', 'user97@example.com', 'user98@example.com', 'user99@example.com', 'user100@example.com']\n"
     ]
    }
   ],
   "source": [
    "emails = [\n",
    "    f\"user{i}@example.com\" for i in range(1, 101)\n",
    "]\n",
    "\n",
    "# Example usage with map:\n",
    "# Convert all email addresses to uppercase\n",
    "uppercase_emails = list(map(lambda email: email.lower(), emails))\n",
    "\n",
    "print(uppercase_emails)\n"
   ]
  },
  {
   "cell_type": "code",
   "execution_count": 8,
   "id": "2370c033-4e8b-4f6c-a171-157f68550489",
   "metadata": {},
   "outputs": [],
   "source": [
    "emails=['user1@example.com', 'user2@example.com', 'user3@example.com', 'user4@example.com', 'user5@example.com', 'user6@example.com', 'user7@example.com', 'user8@example.com', 'user9@example.com', 'user10@example.com', 'user11@example.com', 'user12@example.com', 'user13@example.com', 'user14@example.com', 'user15@example.com', 'user16@example.com', 'user17@example.com', 'user18@example.com', 'user19@example.com', 'user20@example.com', 'user21@example.com', 'user22@example.com', 'user23@example.com', 'user24@example.com', 'user25@example.com', 'user26@example.com', 'user27@example.com', 'user28@example.com', 'user29@example.com', 'user30@example.com', 'user31@example.com', 'user32@example.com', 'user33@example.com', 'user34@example.com', 'user35@example.com', 'user36@example.com', 'user37@example.com', 'user38@example.com', 'user39@example.com', 'user40@example.com', 'user41@example.com', 'user42@example.com', 'user43@example.com', 'user44@example.com', 'user45@example.com', 'user46@example.com', 'user47@example.com', 'user48@example.com', 'user49@example.com', 'user50@example.com', 'user51@example.com', 'user52@example.com', 'user53@example.com', 'user54@example.com', 'user55@example.com', 'user56@example.com', 'user57@example.com', 'user58@example.com', 'user59@example.com', 'user60@example.com', 'user61@example.com', 'user62@example.com', 'user63@example.com', 'user64@example.com', 'user65@example.com', 'user66@example.com', 'user67@example.com', 'user68@example.com', 'user69@example.com', 'user70@example.com', 'user71@example.com', 'user72@example.com', 'user73@example.com', 'user74@example.com', 'user75@example.com', 'user76@example.com', 'user77@example.com', 'user78@example.com', 'user79@example.com', 'user80@example.com', 'user81@example.com', 'user82@example.com', 'user83@example.com', 'user84@example.com', 'user85@example.com', 'user86@example.com', 'user87@example.com', 'user88@example.com', 'user89@example.com', 'user90@example.com', 'user91@example.com', 'user92@example.com', 'user93@example.com', 'user94@example.com', 'user95@example.com', 'user96@example.com', 'user97@example.com', 'user98@example.com', 'user99@example.com', 'user100@example.com']"
   ]
  },
  {
   "cell_type": "code",
   "execution_count": 9,
   "id": "77b74995-feed-43a5-a10c-b0a0ad081405",
   "metadata": {},
   "outputs": [
    {
     "name": "stdout",
     "output_type": "stream",
     "text": [
      "['user1', 'user2', 'user3', 'user4', 'user5', 'user6', 'user7', 'user8', 'user9', 'user10', 'user11', 'user12', 'user13', 'user14', 'user15', 'user16', 'user17', 'user18', 'user19', 'user20', 'user21', 'user22', 'user23', 'user24', 'user25', 'user26', 'user27', 'user28', 'user29', 'user30', 'user31', 'user32', 'user33', 'user34', 'user35', 'user36', 'user37', 'user38', 'user39', 'user40', 'user41', 'user42', 'user43', 'user44', 'user45', 'user46', 'user47', 'user48', 'user49', 'user50', 'user51', 'user52', 'user53', 'user54', 'user55', 'user56', 'user57', 'user58', 'user59', 'user60', 'user61', 'user62', 'user63', 'user64', 'user65', 'user66', 'user67', 'user68', 'user69', 'user70', 'user71', 'user72', 'user73', 'user74', 'user75', 'user76', 'user77', 'user78', 'user79', 'user80', 'user81', 'user82', 'user83', 'user84', 'user85', 'user86', 'user87', 'user88', 'user89', 'user90', 'user91', 'user92', 'user93', 'user94', 'user95', 'user96', 'user97', 'user98', 'user99', 'user100']\n"
     ]
    }
   ],
   "source": [
    "#to fetch username\n",
    "mail=map(lambda x:x.split('@')[0],emails)\n",
    "print(list(mail))\n"
   ]
  },
  {
   "cell_type": "code",
   "execution_count": null,
   "id": "5b9c2ec0-4cea-4374-abb4-b7281cc0154a",
   "metadata": {},
   "outputs": [],
   "source": []
  },
  {
   "cell_type": "code",
   "execution_count": 10,
   "id": "a2c36d86-e84c-4f65-b3aa-150bb4567b67",
   "metadata": {},
   "outputs": [
    {
     "name": "stdout",
     "output_type": "stream",
     "text": [
      "[False, False]\n"
     ]
    }
   ],
   "source": [
    "list1=['deep123@gmail.com','shivam123@gmail.com']\n",
    "result=map(lambda x:x.split('@')[0].isalpha(),list1)\n",
    "print(list(result))"
   ]
  },
  {
   "cell_type": "code",
   "execution_count": 24,
   "id": "d63f95d7-da19-4ad5-af1c-74a3cdfafa36",
   "metadata": {},
   "outputs": [
    {
     "name": "stdout",
     "output_type": "stream",
     "text": [
      "['deep', 'shivam']\n"
     ]
    }
   ],
   "source": [
    "list1 = ['deep123@gmail.com', 'shivam123@gmail.com']\n",
    "\n",
    "#Use map to separate the alphabets and numeric characters from the part before @\n",
    "result = map(lambda x: (''.join([char for char in x.split('@')[0] if char.isalpha()])), list1)\n",
    "print(list(result)) "
   ]
  },
  {
   "cell_type": "code",
   "execution_count": null,
   "id": "4a01db6a-0aea-481d-8837-cd8057c936fe",
   "metadata": {},
   "outputs": [],
   "source": []
  }
 ],
 "metadata": {
  "kernelspec": {
   "display_name": "Python 3 (ipykernel)",
   "language": "python",
   "name": "python3"
  },
  "language_info": {
   "codemirror_mode": {
    "name": "ipython",
    "version": 3
   },
   "file_extension": ".py",
   "mimetype": "text/x-python",
   "name": "python",
   "nbconvert_exporter": "python",
   "pygments_lexer": "ipython3",
   "version": "3.11.7"
  }
 },
 "nbformat": 4,
 "nbformat_minor": 5
}
