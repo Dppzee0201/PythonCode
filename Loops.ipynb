{
 "cells": [
  {
   "cell_type": "code",
   "execution_count": 4,
   "id": "2814e20e-422a-4ab2-be23-343fa1660843",
   "metadata": {},
   "outputs": [],
   "source": [
    "list=[1,2,3,4,5,6,7,8,9,10]\n"
   ]
  },
  {
   "cell_type": "code",
   "execution_count": 5,
   "id": "cf166e36-4655-4b94-935a-72b9c44fbddb",
   "metadata": {},
   "outputs": [
    {
     "name": "stdout",
     "output_type": "stream",
     "text": [
      "1\n",
      "2\n",
      "3\n",
      "4\n",
      "5\n",
      "6\n",
      "7\n",
      "8\n",
      "9\n",
      "10\n"
     ]
    }
   ],
   "source": [
    "for num in list:\n",
    "    print(num)"
   ]
  },
  {
   "cell_type": "code",
   "execution_count": 7,
   "id": "1c628d1e-ec22-4506-ae83-c43d5bb397c3",
   "metadata": {},
   "outputs": [],
   "source": [
    "tuple=(1,3,5,7,9,11,13,14,16,17,18)"
   ]
  },
  {
   "cell_type": "code",
   "execution_count": 14,
   "id": "1194ef21-a121-4234-acbf-5a7f23c4775f",
   "metadata": {},
   "outputs": [
    {
     "name": "stdout",
     "output_type": "stream",
     "text": [
      "1\n",
      "3\n",
      "5\n",
      "7\n",
      "9\n",
      "11\n",
      "13\n",
      "14\n",
      "16\n",
      "17\n",
      "18\n"
     ]
    }
   ],
   "source": [
    "for nums in tuple:\n",
    "    print(nums)"
   ]
  },
  {
   "cell_type": "code",
   "execution_count": 15,
   "id": "88e3d38f-5eb9-430b-8c5a-3417bfbab79d",
   "metadata": {},
   "outputs": [],
   "source": [
    "fruits=['apple','banana','guava','mango','pineapple']\n"
   ]
  },
  {
   "cell_type": "code",
   "execution_count": 16,
   "id": "92e7d0c3-6fcd-469e-a292-e701afff4ba4",
   "metadata": {},
   "outputs": [
    {
     "name": "stdout",
     "output_type": "stream",
     "text": [
      "apple\n",
      "banana\n",
      "guava\n",
      "mango\n",
      "pineapple\n"
     ]
    }
   ],
   "source": [
    "for fruit in fruits:\n",
    "    print(fruit)"
   ]
  },
  {
   "cell_type": "code",
   "execution_count": 17,
   "id": "7a94c07e-62b2-4270-91f3-73519c5631fc",
   "metadata": {},
   "outputs": [],
   "source": [
    "sring=(\"PYTHON\")"
   ]
  },
  {
   "cell_type": "code",
   "execution_count": 19,
   "id": "991c7e19-c030-46b2-b062-54fe98cc0de7",
   "metadata": {},
   "outputs": [
    {
     "name": "stdout",
     "output_type": "stream",
     "text": [
      "P\n",
      "Y\n",
      "T\n",
      "H\n",
      "O\n",
      "N\n"
     ]
    }
   ],
   "source": [
    "for char in sring:\n",
    "    print(char)"
   ]
  },
  {
   "cell_type": "code",
   "execution_count": 22,
   "id": "509d6142-3ab6-4ff5-8c03-b92b9977268f",
   "metadata": {},
   "outputs": [
    {
     "name": "stdout",
     "output_type": "stream",
     "text": [
      "0\n",
      "1\n",
      "2\n",
      "3\n",
      "4\n",
      "5\n",
      "6\n",
      "7\n",
      "8\n"
     ]
    }
   ],
   "source": [
    "for char in range(9):\n",
    "    print(char)"
   ]
  },
  {
   "cell_type": "code",
   "execution_count": 23,
   "id": "9387f8d6-1b36-41db-837d-aaae4570a399",
   "metadata": {},
   "outputs": [],
   "source": [
    "dict={'name':'Dhammadeep',\"add\":\"pune\",\"no\":9370700124}"
   ]
  },
  {
   "cell_type": "code",
   "execution_count": 29,
   "id": "b7133149-d1c5-4b9a-a456-03993397fb33",
   "metadata": {},
   "outputs": [
    {
     "name": "stdout",
     "output_type": "stream",
     "text": [
      "name Dhammadeep\n",
      "add pune\n",
      "no 9370700124\n"
     ]
    }
   ],
   "source": [
    "for info in dict:\n",
    "    print(info,dict[info])"
   ]
  },
  {
   "cell_type": "code",
   "execution_count": 28,
   "id": "6a4b6b9b-1f9a-433a-9967-1cba16b844e9",
   "metadata": {},
   "outputs": [
    {
     "name": "stdout",
     "output_type": "stream",
     "text": [
      "name Alice\n",
      "age 25\n"
     ]
    }
   ],
   "source": [
    "person = {\"name\": \"Alice\", \"age\": 25}\n",
    "for key in person:\n",
    "    print(key, person[key])\n",
    "# Output:\n",
    "# name Alice\n",
    "# age 25\n"
   ]
  },
  {
   "cell_type": "code",
   "execution_count": 31,
   "id": "487203e0-d003-482d-9ebd-386174812395",
   "metadata": {},
   "outputs": [
    {
     "name": "stdout",
     "output_type": "stream",
     "text": [
      "found\n"
     ]
    }
   ],
   "source": [
    "for num in list:\n",
    "    if num==5:\n",
    "        print(\"found\")"
   ]
  },
  {
   "cell_type": "code",
   "execution_count": 52,
   "id": "f4c25644-46ae-4bb2-b464-3c2626eee8d5",
   "metadata": {},
   "outputs": [],
   "source": [
    "num1=77\n",
    "num2=43\n",
    "num3=44"
   ]
  },
  {
   "cell_type": "code",
   "execution_count": 49,
   "id": "59b34b6b-c26c-4ab8-8701-e3e2f4509d7a",
   "metadata": {},
   "outputs": [
    {
     "name": "stdout",
     "output_type": "stream",
     "text": [
      "num3 is greater\n"
     ]
    }
   ],
   "source": [
    "if num1>num2 and num1>num3:\n",
    "    print('num1 is greater')\n",
    "elif num2>num3 and num2>num1:\n",
    "    print(\"num 2 is greater\")\n",
    "else:\n",
    "    print('num3 is greater')"
   ]
  },
  {
   "cell_type": "code",
   "execution_count": 53,
   "id": "b0f779a9-9240-48a7-ab26-b102723d4be4",
   "metadata": {},
   "outputs": [
    {
     "name": "stdout",
     "output_type": "stream",
     "text": [
      "The number is odd\n"
     ]
    }
   ],
   "source": [
    "if num1%2==0:\n",
    "    print(\"The number is even\")\n",
    "else:\n",
    "    print(\"The number is odd\")"
   ]
  },
  {
   "cell_type": "code",
   "execution_count": 60,
   "id": "0d605284-9d8d-4d3a-803c-b496faf46a3d",
   "metadata": {},
   "outputs": [
    {
     "name": "stdout",
     "output_type": "stream",
     "text": [
      "c\n"
     ]
    }
   ],
   "source": [
    "marks=64\n",
    "\n",
    "if marks>=90:\n",
    "    print('A')\n",
    "elif marks>=80:\n",
    "    print('B')\n",
    "elif marks>=60:\n",
    "    print('c')\n",
    "elif marks>=40:\n",
    "    print('d')\n",
    "else:\n",
    "    print('Fail')"
   ]
  },
  {
   "cell_type": "code",
   "execution_count": 74,
   "id": "798a58d8-0c91-4d3b-9fd3-60333ded559c",
   "metadata": {},
   "outputs": [
    {
     "name": "stdout",
     "output_type": "stream",
     "text": [
      "15\n"
     ]
    }
   ],
   "source": [
    "list1=[1,2,3,4,5]\n",
    "addition=0\n",
    "for sum in list1:\n",
    "    addition +=sum\n",
    "print(addition)\n",
    "    "
   ]
  },
  {
   "cell_type": "code",
   "execution_count": 76,
   "id": "7b00af08-3744-4e60-bfa7-206aa9c21836",
   "metadata": {},
   "outputs": [
    {
     "name": "stdin",
     "output_type": "stream",
     "text": [
      "Enter a number n:  32323\n"
     ]
    }
   ],
   "source": [
    "n = int(input(\"Enter a number n: \"))"
   ]
  },
  {
   "cell_type": "code",
   "execution_count": null,
   "id": "7738f7ce-a867-40a5-92bf-b3740f7c9e42",
   "metadata": {},
   "outputs": [],
   "source": []
  }
 ],
 "metadata": {
  "kernelspec": {
   "display_name": "Python 3 (ipykernel)",
   "language": "python",
   "name": "python3"
  },
  "language_info": {
   "codemirror_mode": {
    "name": "ipython",
    "version": 3
   },
   "file_extension": ".py",
   "mimetype": "text/x-python",
   "name": "python",
   "nbconvert_exporter": "python",
   "pygments_lexer": "ipython3",
   "version": "3.11.7"
  }
 },
 "nbformat": 4,
 "nbformat_minor": 5
}
