{
 "cells": [
  {
   "cell_type": "code",
   "execution_count": null,
   "id": "7caceaa5-918e-4a76-9767-acc5cfb3326d",
   "metadata": {},
   "outputs": [],
   "source": [
    "filename=input(\"Enter the filename: \")\n",
    "\n",
    "if filename.endswith('.csv'):\n",
    "    if filename.startswith('copper'):\n",
    "        print(f\"{filename} file processing..\")\n",
    "    elif filename.startswith('gold'):\n",
    "        print(f\"{filename} file processing..\")\n",
    "    elif filename.startswith('boxite'):\n",
    "        print(f\"{filename} file processing..\")\n",
    "    else:\n",
    "        print(\"Invalid csv file \")\n",
    "elif filename.endswith('.xlsx'):\n",
    "    if filename.startswith('copper'):\n",
    "        print(f\"{filename} file processing..\")\n",
    "    elif filename.startswith('gold'):\n",
    "        print(f\"{filename} file processing..\")\n",
    "    elif filename.startswith('boxite'):\n",
    "        print(f\"{filename} file processing..\")\n",
    "    else:\n",
    "        print(\"Invalid excel file \")\n",
    "        \n",
    "elif filename.endswith('.pdf'):\n",
    "    if filename.startswith('copper'):\n",
    "        print(f\"{filename} file processing..\")\n",
    "    elif filename.startswith('gold'):\n",
    "        print(f\"{filename} file processing..\")\n",
    "    elif filename.startswith('boxite'):\n",
    "        print(f\"{filename} file processing..\")\n",
    "    else:\n",
    "        print(\"Invalid pdf file \")\n",
    "else:\n",
    "    print(\"Enter a valid filename\")\n",
    "    \n",
    "    "
   ]
  },
  {
   "cell_type": "code",
   "execution_count": null,
   "id": "ba0ce997-61f5-40ba-b9f7-19d2dab9045f",
   "metadata": {},
   "outputs": [],
   "source": []
  }
 ],
 "metadata": {
  "kernelspec": {
   "display_name": "Python 3 (ipykernel)",
   "language": "python",
   "name": "python3"
  },
  "language_info": {
   "codemirror_mode": {
    "name": "ipython",
    "version": 3
   },
   "file_extension": ".py",
   "mimetype": "text/x-python",
   "name": "python",
   "nbconvert_exporter": "python",
   "pygments_lexer": "ipython3",
   "version": "3.11.7"
  }
 },
 "nbformat": 4,
 "nbformat_minor": 5
}
