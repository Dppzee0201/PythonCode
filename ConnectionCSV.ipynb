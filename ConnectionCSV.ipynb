{
 "cells": [
  {
   "cell_type": "code",
   "execution_count": 4,
   "id": "f14695e3-4158-4830-9e32-ec4cb9858c34",
   "metadata": {},
   "outputs": [],
   "source": [
    "import mysql.connector as ms"
   ]
  },
  {
   "cell_type": "code",
   "execution_count": 8,
   "id": "29b4bb4b-248a-4f30-9a3f-9628a880ee00",
   "metadata": {},
   "outputs": [],
   "source": [
    "import csv"
   ]
  },
  {
   "cell_type": "code",
   "execution_count": 11,
   "id": "2008096b-63d2-4938-812b-58c91f6d7f7f",
   "metadata": {},
   "outputs": [
    {
     "name": "stdout",
     "output_type": "stream",
     "text": [
      "Database connection established\n",
      "(1, 'name1')\n"
     ]
    }
   ],
   "source": [
    "conn=ms.connect(\n",
    "    host='localhost',\n",
    "    username='root',\n",
    "    password='0201',\n",
    "    port=3306,\n",
    "    database='demodb'\n",
    ")\n",
    "print(\"Database connection established\")\n",
    "cur=conn.cursor()\n",
    "cur.execute(\"SELECT * FROM emp\")\n",
    "\n",
    "rows=cur.fetchall()\n",
    "\n",
    "for row in rows:\n",
    "    print(row)\n",
    "\n"
   ]
  },
  {
   "cell_type": "code",
   "execution_count": 16,
   "id": "53ceccea-da6e-4f62-84a5-eddd978a79b9",
   "metadata": {},
   "outputs": [],
   "source": [
    "with open('emp.csv','w',newline='') as fp:\n",
    "    writer=csv.writer(fp) #more on this line to understand why\n",
    "    writer.writerows(rows)"
   ]
  },
  {
   "cell_type": "code",
   "execution_count": 17,
   "id": "efe4003d-0a74-4692-9eb7-85921a33f4a6",
   "metadata": {},
   "outputs": [],
   "source": [
    "\n",
    "cur.close\n",
    "conn.close()\n"
   ]
  },
  {
   "cell_type": "code",
   "execution_count": null,
   "id": "e240283f-9071-4561-aadd-14d97cf707f7",
   "metadata": {},
   "outputs": [],
   "source": []
  }
 ],
 "metadata": {
  "kernelspec": {
   "display_name": "Python 3 (ipykernel)",
   "language": "python",
   "name": "python3"
  },
  "language_info": {
   "codemirror_mode": {
    "name": "ipython",
    "version": 3
   },
   "file_extension": ".py",
   "mimetype": "text/x-python",
   "name": "python",
   "nbconvert_exporter": "python",
   "pygments_lexer": "ipython3",
   "version": "3.11.7"
  }
 },
 "nbformat": 4,
 "nbformat_minor": 5
}
