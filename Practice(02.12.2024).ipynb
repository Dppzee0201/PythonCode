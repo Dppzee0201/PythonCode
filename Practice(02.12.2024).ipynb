{
 "cells": [
  {
   "cell_type": "code",
   "execution_count": 12,
   "id": "2197f748-8744-4099-9916-88e3e5400eaf",
   "metadata": {},
   "outputs": [
    {
     "name": "stdin",
     "output_type": "stream",
     "text": [
      "Enter the string here hello\n"
     ]
    },
    {
     "name": "stdout",
     "output_type": "stream",
     "text": [
      "h\n",
      "e\n",
      "l\n",
      "l\n",
      "o\n"
     ]
    }
   ],
   "source": [
    "#Write a program to print every character of a string entered by the user in a new line using a loop\n",
    "string=input(\"Enter the string here\")\n",
    "\n",
    "for char in string:\n",
    "    print(char)\n",
    "   \n",
    "    \n",
    "    "
   ]
  },
  {
   "cell_type": "code",
   "execution_count": 39,
   "id": "2e4dbf97-c6b3-43f7-8d91-400865744f6c",
   "metadata": {},
   "outputs": [
    {
     "name": "stdin",
     "output_type": "stream",
     "text": [
      "Enter the string here Machine learning\n"
     ]
    },
    {
     "name": "stdout",
     "output_type": "stream",
     "text": [
      "with len function: 16\n",
      "without len function 16\n"
     ]
    }
   ],
   "source": [
    "#Write a program to find the length of the string \"machine learning\" with and without using len function.\n",
    "string=input(\"Enter the string here\")\n",
    "print(\"with len function:\",len(string))\n",
    "Count=0\n",
    "\n",
    "for char in string:\n",
    "    Count+=1\n",
    "print(\"without len function\",Count)"
   ]
  },
  {
   "cell_type": "code",
   "execution_count": 44,
   "id": "df4508e1-1aef-44a7-8d0d-afda821f1c8d",
   "metadata": {},
   "outputs": [
    {
     "name": "stdout",
     "output_type": "stream",
     "text": [
      "Orange is present in the string\n"
     ]
    }
   ],
   "source": [
    "#Write a program to check if the word 'orange' is present in the \"This is orange juice\".\n",
    "\n",
    "string=\"This is orange juice\"\n",
    "\n",
    "if 'orange' in string:\n",
    "        print(\"Orange is present in the string\")\n",
    "else:\n",
    "        print(\"Not present in string\")\n",
    "\n"
   ]
  },
  {
   "cell_type": "code",
   "execution_count": 63,
   "id": "41e0d887-e8e7-42b7-ab39-ebecfed45dc3",
   "metadata": {},
   "outputs": [
    {
     "name": "stdin",
     "output_type": "stream",
     "text": [
      "Enter the string Hello there 12345\n"
     ]
    },
    {
     "name": "stdout",
     "output_type": "stream",
     "text": [
      "vowel: 4\n",
      "consonants 6\n",
      "digits 5\n",
      "spaces 2\n"
     ]
    }
   ],
   "source": [
    "#Write a program to find the number of vowels, consonants, digits, and white space characters in a string.\n",
    "string=input(\"Enter the string\")\n",
    "vowel=consonants=digits=spaces=0\n",
    "vowels='aeiouAEIOU'\n",
    "\n",
    "for char in string:\n",
    "    if char.isdigit():\n",
    "        digits+=1\n",
    "    elif char.isspace():\n",
    "        spaces+=1\n",
    "    elif char.isalpha():\n",
    "        if char in vowels:\n",
    "            vowel+=1\n",
    "        else:\n",
    "            consonants+=1\n",
    "print(\"vowel:\",vowel)\n",
    "print(\"consonants\",consonants)\n",
    "print(\"digits\",digits)\n",
    "print(\"spaces\",spaces)\n",
    "\n",
    "\n",
    "    \n",
    "    "
   ]
  },
  {
   "cell_type": "code",
   "execution_count": 6,
   "id": "a014d1b4-64ce-436f-a2e4-6f3af15e1cf4",
   "metadata": {},
   "outputs": [
    {
     "name": "stdin",
     "output_type": "stream",
     "text": [
      "Enter the string here 123345!@#*(#&@#&#^DHammamdjFDDJSJKF\n"
     ]
    },
    {
     "name": "stdout",
     "output_type": "stream",
     "text": [
      "The count of uppercase is 10\n",
      "The count of lowercase is 7\n",
      "The count of specialcase is 12\n",
      "The count of digit is 6\n"
     ]
    }
   ],
   "source": [
    "#Write a Python program to count Uppercase, Lowercase, special character, and numeric values in a given string.\n",
    "string=input(\"Enter the string here\")\n",
    "upper=lower=special=numeric=0\n",
    "for char in string:\n",
    "    if char.isalpha():\n",
    "        if char.isupper():\n",
    "            upper+=1\n",
    "        elif char.islower():\n",
    "            lower+=1\n",
    "    elif char.isdigit():\n",
    "        numeric+=1\n",
    "    else:\n",
    "        special+=1\n",
    "print(\"The count of uppercase is\",upper)\n",
    "print(\"The count of lowercase is\",lower)\n",
    "print(\"The count of specialcase is\",special)\n",
    "print(\"The count of digit is\",numeric)\n",
    "        "
   ]
  },
  {
   "cell_type": "code",
   "execution_count": 9,
   "id": "8e122e5b-d3d7-4abc-b6e7-3afaab9d64b0",
   "metadata": {},
   "outputs": [
    {
     "name": "stdout",
     "output_type": "stream",
     "text": [
      "Hll, hv  gd dy\n"
     ]
    }
   ],
   "source": [
    "#Write a program to make a new string with all the consonants deleted from the string \"Hello, have a good day\".\n",
    "\n",
    "string=\"Hello, have a good day\"\n",
    "vowel=\"aeiouAEIOU\"\n",
    "new_str=''\n",
    "for char in string:\n",
    "    if char not in vowel:\n",
    "        new_str+=char\n",
    "print(new_str)\n",
    "        \n",
    "        "
   ]
  },
  {
   "cell_type": "code",
   "execution_count": 15,
   "id": "9acced26-7be5-4b03-8121-23b79f0cb15f",
   "metadata": {},
   "outputs": [
    {
     "name": "stdin",
     "output_type": "stream",
     "text": [
      "Enter a string:  Dhammadeep\n",
      "Enter the index to remove:  5\n"
     ]
    },
    {
     "name": "stdout",
     "output_type": "stream",
     "text": [
      "String after removing the character: Dhammdeep\n"
     ]
    }
   ],
   "source": [
    "\n"
   ]
  },
  {
   "cell_type": "code",
   "execution_count": 20,
   "id": "e4552047-4ed9-4172-8f61-6f8a9c11774d",
   "metadata": {},
   "outputs": [
    {
     "name": "stdin",
     "output_type": "stream",
     "text": [
      "Enter your string here HEllo there\n",
      "Enter the index 5\n"
     ]
    },
    {
     "name": "stdout",
     "output_type": "stream",
     "text": [
      "HEllothere\n"
     ]
    }
   ],
   "source": [
    "#Write a Python program to remove the nth index character from a non-empty string\n",
    "string=input(\"Enter your string here\")\n",
    "index=int(input(\"Enter the index\"))\n",
    "new_str=''\n",
    "if index < 0 and index >= len(string):\n",
    "    print(\"Invalid string\")\n",
    "else:\n",
    "    new_str= string[:index] + string[index+1:]\n",
    "print(new_str)\n"
   ]
  },
  {
   "cell_type": "code",
   "execution_count": 27,
   "id": "e009e150-1b82-40d5-a3dc-a94c5fbf1812",
   "metadata": {},
   "outputs": [
    {
     "name": "stdin",
     "output_type": "stream",
     "text": [
      "Enter the string here Dhamma\n"
     ]
    },
    {
     "name": "stdout",
     "output_type": "stream",
     "text": [
      "ahammD\n"
     ]
    }
   ],
   "source": [
    "#Write a Python program to change a given string to a new string where the first and last characters have been exchanged\n",
    "string=input(\"Enter the string here\")\n",
    "new_str=''\n",
    "\n",
    "if len(string) <= 1:\n",
    "    new_str=string\n",
    "else:\n",
    "    new_str=string[-1] + string[1:-1] + string[0]\n",
    "print(new_str)\n"
   ]
  },
  {
   "cell_type": "code",
   "execution_count": null,
   "id": "7e787b1a-2b3d-4ed8-9977-ac1e34ca004a",
   "metadata": {},
   "outputs": [],
   "source": [
    "#Write a Python program to count the occurrences of each word in a given sentence\n"
   ]
  }
 ],
 "metadata": {
  "kernelspec": {
   "display_name": "Python 3 (ipykernel)",
   "language": "python",
   "name": "python3"
  },
  "language_info": {
   "codemirror_mode": {
    "name": "ipython",
    "version": 3
   },
   "file_extension": ".py",
   "mimetype": "text/x-python",
   "name": "python",
   "nbconvert_exporter": "python",
   "pygments_lexer": "ipython3",
   "version": "3.11.7"
  }
 },
 "nbformat": 4,
 "nbformat_minor": 5
}
