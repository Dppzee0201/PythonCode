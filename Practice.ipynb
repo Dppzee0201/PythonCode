{
 "cells": [
  {
   "cell_type": "code",
   "execution_count": 9,
   "id": "54ddf17b-e6f1-4100-8205-0ff145f6c9be",
   "metadata": {},
   "outputs": [
    {
     "name": "stdin",
     "output_type": "stream",
     "text": [
      "Enter the string here Dhammadeep\n"
     ]
    },
    {
     "name": "stdout",
     "output_type": "stream",
     "text": [
      "4\n",
      "6\n"
     ]
    }
   ],
   "source": [
    "#string manipulation\n",
    "\n",
    "string=input(\"Enter the string here\")\n",
    "vowel='aeiou'\n",
    "count_vowel=0\n",
    "count_cont=0\n",
    "\n",
    "for char in string:\n",
    "    if char in vowel:\n",
    "        count_vowel+=1\n",
    "    else:\n",
    "        count_cont+=1\n",
    "print(count_vowel)\n",
    "print(count_cont)"
   ]
  },
  {
   "cell_type": "code",
   "execution_count": 14,
   "id": "c6d665d1-fe3b-4533-bbd7-7d66e0494277",
   "metadata": {},
   "outputs": [
    {
     "name": "stdin",
     "output_type": "stream",
     "text": [
      "Enter a string Mukta\n"
     ]
    },
    {
     "name": "stdout",
     "output_type": "stream",
     "text": [
      "atkuM\n"
     ]
    }
   ],
   "source": [
    "#reverse a string\n",
    "string=input(\"Enter a string\")\n",
    "reverse=''\n",
    "\n",
    "for char in string:\n",
    "    reverse=char+reverse\n",
    "print(reverse)"
   ]
  },
  {
   "cell_type": "code",
   "execution_count": 22,
   "id": "c7c87960-cfa0-460f-9b60-747e82eeabe3",
   "metadata": {},
   "outputs": [
    {
     "name": "stdin",
     "output_type": "stream",
     "text": [
      "Enter the string here Dhammadeep\n"
     ]
    },
    {
     "name": "stdout",
     "output_type": "stream",
     "text": [
      "reversed string is: peedammahD\n",
      "The number is not a palindrome\n"
     ]
    }
   ],
   "source": [
    "#palindrome\n",
    "string=input(\"Enter the string here\")\n",
    "\n",
    "reverse=''\n",
    "for char in string:\n",
    "    reverse=char+reverse\n",
    "print(\"reversed string is:\",reverse)\n",
    "if string==reverse:\n",
    "    print(\"The number is palindrome\")\n",
    "else:\n",
    "    print(\"The number is not a palindrome\")"
   ]
  },
  {
   "cell_type": "code",
   "execution_count": null,
   "id": "3d777b32-b8c1-4463-a172-cb7a02139723",
   "metadata": {},
   "outputs": [],
   "source": []
  },
  {
   "cell_type": "code",
   "execution_count": 23,
   "id": "ccf173ee-4c25-407d-8456-17fd39b23180",
   "metadata": {},
   "outputs": [
    {
     "name": "stdout",
     "output_type": "stream",
     "text": [
      "The numbers are: 0\n",
      "The numbers are: 1\n",
      "The numbers are: 2\n",
      "The numbers are: 3\n",
      "The numbers are: 4\n",
      "The numbers are: 5\n",
      "The numbers are: 6\n",
      "The numbers are: 7\n",
      "The numbers are: 8\n",
      "The numbers are: 9\n",
      "The numbers are: 10\n"
     ]
    }
   ],
   "source": [
    "#range\n",
    "\n",
    "for i in range(0,11):\n",
    "    print(\"The numbers are:\",i)"
   ]
  },
  {
   "cell_type": "code",
   "execution_count": 32,
   "id": "9dcade1d-866b-4613-b0a3-325abae57b68",
   "metadata": {},
   "outputs": [
    {
     "name": "stdout",
     "output_type": "stream",
     "text": [
      "nohtyp"
     ]
    }
   ],
   "source": [
    "#traverse and print\n",
    "string=\"python\"\n",
    "#print(len(string))\n",
    "for char in range(len(string)-1,-1,-1):\n",
    "    print(string[char],end='')\n",
    "    \n",
    "    "
   ]
  },
  {
   "cell_type": "code",
   "execution_count": 39,
   "id": "71857592-52aa-4f93-a517-3d2f77f46828",
   "metadata": {},
   "outputs": [
    {
     "name": "stdout",
     "output_type": "stream",
     "text": [
      "6\n"
     ]
    }
   ],
   "source": [
    "#count words\n",
    "\n",
    "string = 'Hello world, i am learning python'\n",
    "count=0\n",
    "for num in string.split():\n",
    "    count+=1\n",
    "print(count)\n"
   ]
  },
  {
   "cell_type": "code",
   "execution_count": 43,
   "id": "6e666b31-c58c-4814-b53b-b47423d6f581",
   "metadata": {},
   "outputs": [
    {
     "name": "stdout",
     "output_type": "stream",
     "text": [
      "0\n",
      "0\n",
      "0\n",
      "0\n",
      "0\n",
      "0\n",
      "0\n",
      "0\n",
      "0\n",
      "0\n",
      "0\n",
      "0\n",
      "0\n",
      "0\n",
      "0\n",
      "0\n",
      "0\n",
      "0\n",
      "0\n",
      "0\n",
      "0\n",
      "0\n",
      "0\n",
      "0\n",
      "0\n",
      "0\n",
      "0\n",
      "0\n",
      "0\n"
     ]
    }
   ],
   "source": [
    "#count vowels\n",
    "\n",
    "string = \"aquickbrownfoxjumpsonalazycat\"\n",
    "vowel='aeiouAEIOU'\n",
    "count=0\n",
    "\n",
    "for i in string:\n",
    "    if vowel in string:\n",
    "       count+=1\n",
    "    print(count)"
   ]
  },
  {
   "cell_type": "code",
   "execution_count": null,
   "id": "f7a95648-8966-4663-bb49-6e575f75355a",
   "metadata": {},
   "outputs": [],
   "source": []
  }
 ],
 "metadata": {
  "kernelspec": {
   "display_name": "Python 3 (ipykernel)",
   "language": "python",
   "name": "python3"
  },
  "language_info": {
   "codemirror_mode": {
    "name": "ipython",
    "version": 3
   },
   "file_extension": ".py",
   "mimetype": "text/x-python",
   "name": "python",
   "nbconvert_exporter": "python",
   "pygments_lexer": "ipython3",
   "version": "3.11.7"
  }
 },
 "nbformat": 4,
 "nbformat_minor": 5
}
