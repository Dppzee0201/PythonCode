{
 "cells": [
  {
   "cell_type": "code",
   "execution_count": 2,
   "id": "f476ad8c-11e6-4cdd-aab6-91a47c7b781b",
   "metadata": {},
   "outputs": [
    {
     "name": "stdout",
     "output_type": "stream",
     "text": [
      "1\n",
      "2\n",
      "3\n",
      "4\n",
      "5\n",
      "6\n",
      "7\n",
      "8\n",
      "9\n",
      "10\n"
     ]
    }
   ],
   "source": [
    "#natural number\n",
    "\n",
    "for i in range(1,11):\n",
    "    print(i)"
   ]
  },
  {
   "cell_type": "code",
   "execution_count": 7,
   "id": "b0993c84-41f5-4689-8094-d61a2d2e0990",
   "metadata": {},
   "outputs": [
    {
     "name": "stdin",
     "output_type": "stream",
     "text": [
      "Enter the no 5\n"
     ]
    },
    {
     "name": "stdout",
     "output_type": "stream",
     "text": [
      "The sum of numbers till 5 is 15\n"
     ]
    }
   ],
   "source": [
    "#sum of no\n",
    "\n",
    "num=int(input(\"Enter the no\"))\n",
    "sum=0\n",
    "for i in range(1,num+1):\n",
    "    sum+=i\n",
    "print(f\"The sum of numbers till {num} is\", sum)"
   ]
  },
  {
   "cell_type": "code",
   "execution_count": 11,
   "id": "3bf0e457-51a6-46dd-b855-ea69ebffeb01",
   "metadata": {},
   "outputs": [
    {
     "name": "stdin",
     "output_type": "stream",
     "text": [
      "Enter the number 5\n"
     ]
    },
    {
     "name": "stdout",
     "output_type": "stream",
     "text": [
      "5 X 1 = 5\n",
      "5 X 2 = 10\n",
      "5 X 3 = 15\n",
      "5 X 4 = 20\n",
      "5 X 5 = 25\n",
      "5 X 6 = 30\n",
      "5 X 7 = 35\n",
      "5 X 8 = 40\n",
      "5 X 9 = 45\n",
      "5 X 10 = 50\n"
     ]
    }
   ],
   "source": [
    "#table\n",
    "\n",
    "num=(input(\"Enter the number\"))\n",
    "\n",
    "for i in range(1,11):\n",
    "    print(f\"{num} X {i} = {i*5}\")\n",
    "\n"
   ]
  },
  {
   "cell_type": "code",
   "execution_count": 17,
   "id": "03ba9d01-35d0-47d1-8231-15a660a719e6",
   "metadata": {},
   "outputs": [
    {
     "name": "stdin",
     "output_type": "stream",
     "text": [
      "Enter the word Helo\n"
     ]
    },
    {
     "name": "stdout",
     "output_type": "stream",
     "text": [
      "oleH\n"
     ]
    }
   ],
   "source": [
    "#reverse\n",
    "\n",
    "string=input(\"Enter the word\")\n",
    "reverse=\"\"\n",
    "for char in string:\n",
    "    reverse=char + reverse\n",
    "print(reverse)"
   ]
  },
  {
   "cell_type": "code",
   "execution_count": null,
   "id": "783b0b99-7101-478f-979b-62e4cc829de9",
   "metadata": {},
   "outputs": [],
   "source": []
  },
  {
   "cell_type": "code",
   "execution_count": 36,
   "id": "e995103d-8b15-4166-a947-5818416d3f84",
   "metadata": {},
   "outputs": [
    {
     "name": "stdout",
     "output_type": "stream",
     "text": [
      "71\n",
      "51\n"
     ]
    }
   ],
   "source": [
    "#count even and odd\n",
    "\n",
    "num1=[12,14,122,33,17,13]\n",
    "\n",
    "for i in num1:\n",
    "    if i%2==0:\n",
    "        counteven+=1\n",
    "    elif i%2!=0:\n",
    "         countodd+=1\n",
    "print(counteven)\n",
    "print(countodd)\n"
   ]
  },
  {
   "cell_type": "code",
   "execution_count": 42,
   "id": "91454ad3-5888-4477-8652-41077eb9c660",
   "metadata": {},
   "outputs": [
    {
     "name": "stdout",
     "output_type": "stream",
     "text": [
      "32333\n"
     ]
    }
   ],
   "source": [
    "#largest no\n",
    "\n",
    "list1=[1,232,42,52,232,5522,2322,32333]\n",
    "largest=list1[0]\n",
    "for i in list1:\n",
    "     if largest < i:\n",
    "        largest=i\n",
    "print(largest)\n",
    "        \n",
    "        "
   ]
  },
  {
   "cell_type": "code",
   "execution_count": null,
   "id": "bec93b73-75d6-4723-b1de-7e077d6702f8",
   "metadata": {},
   "outputs": [],
   "source": []
  }
 ],
 "metadata": {
  "kernelspec": {
   "display_name": "Python 3 (ipykernel)",
   "language": "python",
   "name": "python3"
  },
  "language_info": {
   "codemirror_mode": {
    "name": "ipython",
    "version": 3
   },
   "file_extension": ".py",
   "mimetype": "text/x-python",
   "name": "python",
   "nbconvert_exporter": "python",
   "pygments_lexer": "ipython3",
   "version": "3.11.7"
  }
 },
 "nbformat": 4,
 "nbformat_minor": 5
}
