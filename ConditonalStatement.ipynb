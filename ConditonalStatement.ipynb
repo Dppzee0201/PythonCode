{
 "cells": [
  {
   "cell_type": "code",
   "execution_count": 1,
   "id": "6a43bc93-acb2-4b2d-aac6-ff5aa6b015d2",
   "metadata": {},
   "outputs": [],
   "source": [
    "num=20"
   ]
  },
  {
   "cell_type": "code",
   "execution_count": 9,
   "id": "1aace46a-3ff4-4e0c-b3fa-7b5a09407a93",
   "metadata": {},
   "outputs": [
    {
     "name": "stdout",
     "output_type": "stream",
     "text": [
      "The num is greater\n"
     ]
    }
   ],
   "source": [
    "num=20\n",
    "if num >= 15 :\n",
    "    print(\"The num is greater\")"
   ]
  },
  {
   "cell_type": "code",
   "execution_count": 16,
   "id": "54ffa854-f346-4a4a-bd5e-1d4eb6788531",
   "metadata": {},
   "outputs": [
    {
     "name": "stdout",
     "output_type": "stream",
     "text": [
      "the number is not greater\n"
     ]
    }
   ],
   "source": [
    "if num >=60 :\n",
    "    print(\"the number is greater\")\n",
    "else:\n",
    "    print(\"the number is not greater\")"
   ]
  },
  {
   "cell_type": "code",
   "execution_count": 18,
   "id": "bf03bf79-d65a-44fc-831e-859ef25c697d",
   "metadata": {},
   "outputs": [
    {
     "name": "stdout",
     "output_type": "stream",
     "text": [
      "the is equal\n"
     ]
    }
   ],
   "source": [
    "if num< 20:\n",
    "    print('the number is greater')\n",
    "elif num==20:\n",
    "    print(\"the is equal\")\n",
    "else:\n",
    "    print(\"The number is smaller\")\n"
   ]
  },
  {
   "cell_type": "code",
   "execution_count": null,
   "id": "2112c3d8-2fd3-4f74-a20c-c39cf06b3d1a",
   "metadata": {},
   "outputs": [],
   "source": []
  }
 ],
 "metadata": {
  "kernelspec": {
   "display_name": "Python 3 (ipykernel)",
   "language": "python",
   "name": "python3"
  },
  "language_info": {
   "codemirror_mode": {
    "name": "ipython",
    "version": 3
   },
   "file_extension": ".py",
   "mimetype": "text/x-python",
   "name": "python",
   "nbconvert_exporter": "python",
   "pygments_lexer": "ipython3",
   "version": "3.11.7"
  }
 },
 "nbformat": 4,
 "nbformat_minor": 5
}
