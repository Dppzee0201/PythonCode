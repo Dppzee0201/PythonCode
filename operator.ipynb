{
 "cells": [
  {
   "cell_type": "code",
   "execution_count": 2,
   "id": "a7e83f9d-49a4-437f-ba48-69af9a0af5bb",
   "metadata": {},
   "outputs": [],
   "source": [
    "#area =22/7 *r*r\n",
    "\n"
   ]
  },
  {
   "cell_type": "code",
   "execution_count": 14,
   "id": "d29139e9-1da5-4ff5-a142-f000764a37c6",
   "metadata": {},
   "outputs": [
    {
     "name": "stdin",
     "output_type": "stream",
     "text": [
      "Enter the radius 3\n"
     ]
    },
    {
     "name": "stdout",
     "output_type": "stream",
     "text": [
      "The area of circle is 28.26\n"
     ]
    }
   ],
   "source": [
    "radius=float(input(\"Enter the radius\"))\n",
    "area=3.14 *(radius*radius)\n",
    "print(f\"The area of circle is {area}\")\n",
    "\n",
    "\n"
   ]
  },
  {
   "cell_type": "code",
   "execution_count": 18,
   "id": "e59bb6fc-f65d-44c3-bbfb-d8f877b79ca2",
   "metadata": {},
   "outputs": [
    {
     "name": "stdin",
     "output_type": "stream",
     "text": [
      "Enter the no 1 5\n",
      "Enter the no 2 6\n"
     ]
    },
    {
     "name": "stdout",
     "output_type": "stream",
     "text": [
      "11.0\n",
      "30.0\n",
      "-1.0\n",
      "0.8333333333333334\n"
     ]
    }
   ],
   "source": [
    "num1=float(input(\"Enter the no 1\"))\n",
    "num2=float(input(\"Enter the no 2\"))\n",
    "\n",
    "sum=num1+num2\n",
    "mul=num1*num2\n",
    "div=num1/num2\n",
    "sub=num1-num2\n",
    "print(sum)\n",
    "print(mul)\n",
    "print(sub)\n",
    "print(div)\n"
   ]
  },
  {
   "cell_type": "code",
   "execution_count": 23,
   "id": "b7e30ac4-ef78-40be-bbe0-d46c2f757c70",
   "metadata": {},
   "outputs": [
    {
     "name": "stdin",
     "output_type": "stream",
     "text": [
      "Enter the principal value 1000\n",
      "Enter the rate 8\n",
      "Enter the time duration 1\n"
     ]
    },
    {
     "name": "stdout",
     "output_type": "stream",
     "text": [
      "The compound intrest is 80.0\n"
     ]
    }
   ],
   "source": [
    "#simple intrest and compound intrest\n",
    "\n",
    "principal=float(input(\"Enter the principal value\"))\n",
    "rate=float(input(\"Enter the rate\"))\n",
    "time=float(input(\"Enter the time duration\"))\n",
    "\n",
    "A = principal * (1+ rate/100)**time\n",
    "\n",
    "compoundIntrest=A- principal \n",
    "\n",
    "print(f\"The compound intrest is {compoundIntrest}\")"
   ]
  },
  {
   "cell_type": "code",
   "execution_count": 27,
   "id": "024813f8-3f4a-4fc4-a236-9a742f89c232",
   "metadata": {},
   "outputs": [
    {
     "name": "stdin",
     "output_type": "stream",
     "text": [
      "Enter the number 5\n"
     ]
    },
    {
     "name": "stdout",
     "output_type": "stream",
     "text": [
      "132\n"
     ]
    }
   ],
   "source": [
    "x=int(input(\"Enter the number\"))\n",
    "\n",
    "ans = x**3 + x**2 -5 * x + 7\n",
    "print(ans)\n"
   ]
  },
  {
   "cell_type": "code",
   "execution_count": 28,
   "id": "7d2de75d-3bdc-42c6-b8b2-12039d3947b5",
   "metadata": {},
   "outputs": [
    {
     "name": "stdin",
     "output_type": "stream",
     "text": [
      "Enter the celcius 10\n"
     ]
    },
    {
     "name": "stdout",
     "output_type": "stream",
     "text": [
      "50.0\n"
     ]
    }
   ],
   "source": [
    "#temperature\n",
    "\n",
    "celcius=float(input(\"Enter the celcius\"))\n",
    "\n",
    "Fahrenhite=9/5* celcius+ 32\n",
    "print(Fahrenhite)"
   ]
  },
  {
   "cell_type": "code",
   "execution_count": 31,
   "id": "3746f7d9-528a-4a91-a677-f1b26c42ab44",
   "metadata": {},
   "outputs": [
    {
     "name": "stdin",
     "output_type": "stream",
     "text": [
      "Enter the number 13\n"
     ]
    },
    {
     "name": "stdout",
     "output_type": "stream",
     "text": [
      "The num is odd\n"
     ]
    }
   ],
   "source": [
    "#even odd\n",
    "\n",
    "num=int(input(\"Enter the number\"))\n",
    "\n",
    "if num%2==0:\n",
    "    print(\"The num is even\")\n",
    "else:\n",
    "    print(\"The num is odd\")"
   ]
  },
  {
   "cell_type": "code",
   "execution_count": 34,
   "id": "0b2920a2-79cd-4306-9a06-94c219d254f6",
   "metadata": {},
   "outputs": [
    {
     "name": "stdin",
     "output_type": "stream",
     "text": [
      "Enter the leap year 2024\n"
     ]
    },
    {
     "name": "stdout",
     "output_type": "stream",
     "text": [
      "The year is a Leap Year\n"
     ]
    }
   ],
   "source": [
    "#leap year\n",
    "year=int(input(\"Enter the leap year\"))\n",
    "if year%4==0:\n",
    "    print(\"The year is a Leap Year\")\n",
    "else:\n",
    "    print(\"The year is not a leap year\")\n",
    "    "
   ]
  },
  {
   "cell_type": "code",
   "execution_count": 37,
   "id": "d1ef3605-fd47-466a-b03a-293caaf388a9",
   "metadata": {},
   "outputs": [
    {
     "name": "stdin",
     "output_type": "stream",
     "text": [
      "Enter the number -2222\n"
     ]
    },
    {
     "name": "stdout",
     "output_type": "stream",
     "text": [
      "The number is negative\n"
     ]
    }
   ],
   "source": [
    "#positive negative and zero\n",
    "\n",
    "num=int(input(\"Enter the number\"))\n",
    "if num>0:\n",
    "    print(\"The number is positive\")\n",
    "elif num<0:\n",
    "    print(\"The number is negative\")\n",
    "else:\n",
    "    print(\"The number is zero\")\n",
    "    "
   ]
  },
  {
   "cell_type": "code",
   "execution_count": 41,
   "id": "d7f6090b-c889-4c44-80e7-6149b2a85da2",
   "metadata": {},
   "outputs": [
    {
     "name": "stdin",
     "output_type": "stream",
     "text": [
      "Enter the number 1 22\n",
      "Enter the number 2 99\n",
      "Enter the number 3 45\n"
     ]
    },
    {
     "name": "stdout",
     "output_type": "stream",
     "text": [
      "num 2 is larger\n"
     ]
    }
   ],
   "source": [
    "\n",
    "num1=int(input(\"Enter the number 1\"))\n",
    "num2=int(input(\"Enter the number 2\"))\n",
    "num3=int(input(\"Enter the number 3\"))\n",
    "\n",
    "if num1>num2 and num1>num3:\n",
    "    print(\"Num 1 is larger\")\n",
    "elif num2>num1 and num2>num3:\n",
    "    print(\"num 2 is larger\")\n",
    "else:\n",
    "    print(\"Num 3 is larger\")"
   ]
  },
  {
   "cell_type": "code",
   "execution_count": 44,
   "id": "bb6023cc-9431-42c6-a6f8-22e56aac7cb1",
   "metadata": {},
   "outputs": [
    {
     "name": "stdin",
     "output_type": "stream",
     "text": [
      "Enter the number 1 12\n"
     ]
    },
    {
     "name": "stdout",
     "output_type": "stream",
     "text": [
      "Both the numbers are divisible\n"
     ]
    }
   ],
   "source": [
    "#divisible by 3 and 4\n",
    "\n",
    "num=int(input(\"Enter the number 1\"))\n",
    "\n",
    "\n",
    "if num%3==0 and num%4==0:\n",
    "    print(\"Both the numbers are divisible\")\n",
    "else:\n",
    "    print(\"Not divisible\")"
   ]
  },
  {
   "cell_type": "code",
   "execution_count": 45,
   "id": "e955158f-7201-4219-894d-d2f62364a3fa",
   "metadata": {},
   "outputs": [],
   "source": [
    "#Write a program that asks the user to enter a number. If the number is greater than 10 or a multiple of 2, print \"Valid\", otherwise print \"Invalid\".\n"
   ]
  },
  {
   "cell_type": "code",
   "execution_count": 49,
   "id": "b3b009ed-5692-4ea8-8dd6-7328f65cc38f",
   "metadata": {},
   "outputs": [
    {
     "name": "stdin",
     "output_type": "stream",
     "text": [
      "Enter the number 7\n"
     ]
    },
    {
     "name": "stdout",
     "output_type": "stream",
     "text": [
      "Invalid\n"
     ]
    }
   ],
   "source": [
    "num=int(input(\"Enter the number\"))\n",
    "\n",
    "if num>10 or num%2==0:\n",
    "    print(\"Valid\")\n",
    "else:\n",
    "    print(\"Invalid\")"
   ]
  },
  {
   "cell_type": "code",
   "execution_count": 51,
   "id": "ef1b682b-fbfb-4bac-802d-70f524e36420",
   "metadata": {},
   "outputs": [],
   "source": [
    "#Create a program that:\n",
    "\n",
    "#Accepts a username and password.\n",
    "#Checks whether both match predefined values.\n",
    "#Print \"Access Granted\" if they match, otherwise \"Access Denied\".\n",
    "                                     "
   ]
  },
  {
   "cell_type": "code",
   "execution_count": 52,
   "id": "feb4edd1-c090-4808-9af3-2311e8aca45d",
   "metadata": {},
   "outputs": [],
   "source": [
    "\n"
   ]
  },
  {
   "cell_type": "code",
   "execution_count": 59,
   "id": "4bf69eef-82d2-4831-a212-8e2b6b2536e9",
   "metadata": {},
   "outputs": [
    {
     "name": "stdin",
     "output_type": "stream",
     "text": [
      "Enter the username Dhamma\n",
      "Enter the password Dhamma@0201\n"
     ]
    },
    {
     "name": "stdout",
     "output_type": "stream",
     "text": [
      "Invalid\n"
     ]
    }
   ],
   "source": [
    "username=\"Dhamma\"\n",
    "password=\"Dhamma@0201\"\n",
    "\n",
    "uname=input(\"Enter the username\")\n",
    "passw=input(\"Enter the password\")\n",
    "\n",
    "if username==uname and password==passw:\n",
    "    print(\"Invalid\")\n",
    "else:\n",
    "    print(\"valid\")"
   ]
  },
  {
   "cell_type": "code",
   "execution_count": 63,
   "id": "8ef8db45-07c6-48d2-b439-1661ad68a14c",
   "metadata": {},
   "outputs": [
    {
     "name": "stdin",
     "output_type": "stream",
     "text": [
      "Enter the value false\n"
     ]
    },
    {
     "name": "stdout",
     "output_type": "stream",
     "text": [
      "True\n"
     ]
    }
   ],
   "source": []
  },
  {
   "cell_type": "code",
   "execution_count": null,
   "id": "ed8438cb-bd51-4717-9dde-fa33159c7411",
   "metadata": {},
   "outputs": [],
   "source": []
  }
 ],
 "metadata": {
  "kernelspec": {
   "display_name": "Python 3 (ipykernel)",
   "language": "python",
   "name": "python3"
  },
  "language_info": {
   "codemirror_mode": {
    "name": "ipython",
    "version": 3
   },
   "file_extension": ".py",
   "mimetype": "text/x-python",
   "name": "python",
   "nbconvert_exporter": "python",
   "pygments_lexer": "ipython3",
   "version": "3.11.7"
  }
 },
 "nbformat": 4,
 "nbformat_minor": 5
}
