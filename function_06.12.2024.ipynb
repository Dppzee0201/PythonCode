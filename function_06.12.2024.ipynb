{
 "cells": [
  {
   "cell_type": "code",
   "execution_count": 1,
   "id": "64b532fc-55de-4d99-a53b-c053ebd8b40b",
   "metadata": {},
   "outputs": [],
   "source": [
    "#Function for addition of numbers\n"
   ]
  },
  {
   "cell_type": "code",
   "execution_count": 4,
   "id": "e3de6822-8283-49e9-b26d-9a147e6eb996",
   "metadata": {},
   "outputs": [],
   "source": [
    "def add(a,b):\n",
    "    x=a+b\n",
    "    return x\n",
    "    "
   ]
  },
  {
   "cell_type": "code",
   "execution_count": 12,
   "id": "d37005e5-1a38-45c5-a433-0c6ed61e7fd2",
   "metadata": {},
   "outputs": [
    {
     "name": "stdout",
     "output_type": "stream",
     "text": [
      "20000\n"
     ]
    }
   ],
   "source": [
    "Sum=add(19999,1)\n",
    "print(Sum)"
   ]
  },
  {
   "cell_type": "code",
   "execution_count": 19,
   "id": "cf428199-4dfc-4271-b7ff-04fb37ec69dc",
   "metadata": {},
   "outputs": [],
   "source": [
    "def mul(a,b):\n",
    "    x=a*b\n",
    "    print(x)\n",
    "\n",
    "def div(a,b):\n",
    "    x=a/b\n",
    "    print(x)\n",
    "\n",
    "def add(a,b):\n",
    "    x=a+b\n",
    "    print(x)\n",
    "\n",
    "def sub(a,b):\n",
    "    x=a-b\n",
    "    print(x)\n",
    "\n",
    "\n"
   ]
  },
  {
   "cell_type": "code",
   "execution_count": 23,
   "id": "73a2b206-623b-41dc-a9af-76e0d2f3165f",
   "metadata": {},
   "outputs": [
    {
     "name": "stdin",
     "output_type": "stream",
     "text": [
      "Enter the number 1 30\n",
      "Enter the number 2 20\n"
     ]
    },
    {
     "name": "stdout",
     "output_type": "stream",
     "text": [
      "600\n",
      "1.5\n",
      "50\n",
      "10\n"
     ]
    }
   ],
   "source": [
    "a=int(input(\"Enter the number 1\"))\n",
    "b=int(input(\"Enter the number 2\"))\n",
    "multiplication=mul(a,b)\n",
    "divide=div(a,b)\n",
    "addition=add(a,b)\n",
    "subtraction=sub(a,b)"
   ]
  },
  {
   "cell_type": "code",
   "execution_count": 28,
   "id": "c4f1a077-22f0-497b-9b2b-3678b30e670d",
   "metadata": {},
   "outputs": [],
   "source": [
    "#Even odd function\n",
    "def even_odd(number):\n",
    "    if number%2==0:\n",
    "        print(\"Even number\")\n",
    "    else:\n",
    "        print(\"Odd number\")\n",
    "        "
   ]
  },
  {
   "cell_type": "code",
   "execution_count": 29,
   "id": "4389f280-6a9b-4819-8d19-5ca3182fe222",
   "metadata": {},
   "outputs": [
    {
     "name": "stdout",
     "output_type": "stream",
     "text": [
      "Odd number\n"
     ]
    }
   ],
   "source": [
    "even_odd(13)"
   ]
  },
  {
   "cell_type": "code",
   "execution_count": 33,
   "id": "a99b1518-0e95-4e3a-89a4-aa373007b66d",
   "metadata": {},
   "outputs": [],
   "source": [
    "#function for creating a mail id\n",
    "def email_creation(fname,lname):\n",
    "    email=lname+fname+'@gmail.com'\n",
    "    return email"
   ]
  },
  {
   "cell_type": "code",
   "execution_count": 34,
   "id": "a78ba339-a28f-4d27-a563-6e4dd64b1981",
   "metadata": {},
   "outputs": [
    {
     "name": "stdin",
     "output_type": "stream",
     "text": [
      "Enter the first name dhammadeep\n",
      "Enter your last name salwe\n"
     ]
    },
    {
     "name": "stdout",
     "output_type": "stream",
     "text": [
      "Your Email id is  salwedhammadeep@gmail.com\n"
     ]
    }
   ],
   "source": [
    "first_name=input(\"Enter the first name\")\n",
    "last_name=input(\"Enter your last name\")\n",
    "\n",
    "Email=email_creation(first_name,last_name)\n",
    "print(\"Your Email id is \",Email)"
   ]
  },
  {
   "cell_type": "code",
   "execution_count": 45,
   "id": "8665895c-2dd2-4cc6-9537-6f5dcab763f3",
   "metadata": {},
   "outputs": [],
   "source": [
    "#function for reversing a string in python\n",
    "\n",
    "def reverse(string):\n",
    "    reversed=string[::-1]\n",
    "    return reversed"
   ]
  },
  {
   "cell_type": "code",
   "execution_count": 46,
   "id": "3613c936-a27e-4b3f-94ff-f98bcb4ed08c",
   "metadata": {},
   "outputs": [
    {
     "name": "stdin",
     "output_type": "stream",
     "text": [
      "Enter a Word to reverse string\n"
     ]
    },
    {
     "name": "stdout",
     "output_type": "stream",
     "text": [
      "gnirts\n"
     ]
    }
   ],
   "source": [
    "string=input(\"Enter a Word to reverse\")\n",
    "reversing=reverse(string)\n",
    "print(reversing)"
   ]
  },
  {
   "cell_type": "code",
   "execution_count": 47,
   "id": "da98e1e4-61de-4c11-b98c-2f6ddecc2f2f",
   "metadata": {},
   "outputs": [],
   "source": [
    "#conditional\n"
   ]
  },
  {
   "cell_type": "code",
   "execution_count": 57,
   "id": "67d7e320-2a0b-406b-82c2-c8514e41135b",
   "metadata": {},
   "outputs": [],
   "source": [
    "def average(sum1,sum2,sum3):\n",
    "    avg=(sum1 + sum2 + sum3)/3\n",
    "    return avg\n",
    "\n",
    "def check(Average):\n",
    "    if Average > 50:\n",
    "        print(\"You are eligible\")\n",
    "    else:\n",
    "        print(\"Not eligible\")\n"
   ]
  },
  {
   "cell_type": "code",
   "execution_count": 59,
   "id": "6120b00f-caa9-4589-ab96-98481860036b",
   "metadata": {},
   "outputs": [
    {
     "name": "stdout",
     "output_type": "stream",
     "text": [
      "Your average is 55.666666666666664\n",
      "You are eligible\n"
     ]
    }
   ],
   "source": [
    "Average=average(45,34,88)\n",
    "print(\"Your average is\",Average)\n",
    "check(Average)\n"
   ]
  },
  {
   "cell_type": "code",
   "execution_count": 61,
   "id": "48e216ea-a149-4337-9efe-1758921c7105",
   "metadata": {},
   "outputs": [],
   "source": [
    "#pass and fail and acing\n",
    "\n",
    "def average(sub1,sub2,sub3,sub4,sub5):\n",
    "    avg=(sub1+sub2+sub3+sub4+sub5)/5\n",
    "    return avg\n",
    "    "
   ]
  },
  {
   "cell_type": "code",
   "execution_count": 62,
   "id": "c63732b0-8e77-4960-91b5-4a679e578938",
   "metadata": {},
   "outputs": [
    {
     "name": "stdin",
     "output_type": "stream",
     "text": [
      "Enter the marks Subject1=int(input(\"Enter the marks\"))\n"
     ]
    },
    {
     "ename": "ValueError",
     "evalue": "invalid literal for int() with base 10: 'Subject1=int(input(\"Enter the marks\"))'",
     "output_type": "error",
     "traceback": [
      "\u001b[1;31m---------------------------------------------------------------------------\u001b[0m",
      "\u001b[1;31mValueError\u001b[0m                                Traceback (most recent call last)",
      "Cell \u001b[1;32mIn[62], line 1\u001b[0m\n\u001b[1;32m----> 1\u001b[0m Subject1\u001b[38;5;241m=\u001b[39m\u001b[38;5;28mint\u001b[39m(\u001b[38;5;28minput\u001b[39m(\u001b[38;5;124m\"\u001b[39m\u001b[38;5;124mEnter the marks\u001b[39m\u001b[38;5;124m\"\u001b[39m))\n\u001b[0;32m      2\u001b[0m Subject1\u001b[38;5;241m=\u001b[39m\u001b[38;5;28mint\u001b[39m(\u001b[38;5;28minput\u001b[39m(\u001b[38;5;124m\"\u001b[39m\u001b[38;5;124mEnter the marks\u001b[39m\u001b[38;5;124m\"\u001b[39m))\n",
      "\u001b[1;31mValueError\u001b[0m: invalid literal for int() with base 10: 'Subject1=int(input(\"Enter the marks\"))'"
     ]
    }
   ],
   "source": [
    "Subject1=int(input(\"Enter the marks\"))\n",
    "Subject2=int(input(\"Enter the marks\"))\n",
    "Subject3=int(input(\"Enter the marks\"))\n",
    "Subject4int(input(\"Enter the marks\"))\n",
    "Subject5=int(input(\"Enter the marks\"))\n",
    "\n",
    "Average=average(Subject1,Subject2,Subject3,Subject4,Subject5)\n",
    "if Average \n"
   ]
  }
 ],
 "metadata": {
  "kernelspec": {
   "display_name": "Python 3 (ipykernel)",
   "language": "python",
   "name": "python3"
  },
  "language_info": {
   "codemirror_mode": {
    "name": "ipython",
    "version": 3
   },
   "file_extension": ".py",
   "mimetype": "text/x-python",
   "name": "python",
   "nbconvert_exporter": "python",
   "pygments_lexer": "ipython3",
   "version": "3.11.7"
  }
 },
 "nbformat": 4,
 "nbformat_minor": 5
}
