{
 "cells": [
  {
   "cell_type": "code",
   "execution_count": 2,
   "id": "012a02e1-382c-491a-9e4f-44048b7c56b9",
   "metadata": {},
   "outputs": [],
   "source": [
    "string=(\"Hello, World!\")\n"
   ]
  },
  {
   "cell_type": "code",
   "execution_count": 4,
   "id": "10e953d1-2c35-4d56-b196-b585c028d02c",
   "metadata": {},
   "outputs": [],
   "source": [
    "reverse=string[::-1]"
   ]
  },
  {
   "cell_type": "code",
   "execution_count": 5,
   "id": "e613b98b-838f-4934-ae82-7f4740ac4084",
   "metadata": {},
   "outputs": [
    {
     "data": {
      "text/plain": [
       "'!dlroW ,olleH'"
      ]
     },
     "execution_count": 5,
     "metadata": {},
     "output_type": "execute_result"
    }
   ],
   "source": [
    "reverse"
   ]
  },
  {
   "cell_type": "code",
   "execution_count": 6,
   "id": "d4154230-4245-4d37-8520-d7520f89fd3f",
   "metadata": {},
   "outputs": [
    {
     "name": "stdout",
     "output_type": "stream",
     "text": [
      "Not palindrome\n"
     ]
    }
   ],
   "source": [
    "if string==reverse:\n",
    "    print(\"Palindorme\")\n",
    "else:\n",
    "    print(\"Not palindrome\")"
   ]
  },
  {
   "cell_type": "code",
   "execution_count": 7,
   "id": "54ce6aa0-bc40-4039-ac03-694de255f741",
   "metadata": {},
   "outputs": [],
   "source": [
    "vowel=\"aeiou\""
   ]
  },
  {
   "cell_type": "code",
   "execution_count": 8,
   "id": "86cf3a25-28b3-4109-8ae5-f25c09442daf",
   "metadata": {},
   "outputs": [
    {
     "name": "stdout",
     "output_type": "stream",
     "text": [
      "13\n"
     ]
    }
   ],
   "source": [
    "count=0\n",
    "for vowel in string:\n",
    "    count=count+1\n",
    "print(count)\n",
    "    "
   ]
  },
  {
   "cell_type": "code",
   "execution_count": 14,
   "id": "be42b0a9-a8b9-4dd3-9b9a-36796dd1a5d2",
   "metadata": {},
   "outputs": [
    {
     "data": {
      "text/plain": [
       "'  Hello there '"
      ]
     },
     "execution_count": 14,
     "metadata": {},
     "output_type": "execute_result"
    }
   ],
   "source": [
    "string1=\"  Hello there \"\n",
    "string1"
   ]
  },
  {
   "cell_type": "code",
   "execution_count": 13,
   "id": "f4539580-7a87-4f17-b8d5-0d4c3a3cdf38",
   "metadata": {},
   "outputs": [],
   "source": [
    "str=string1.strip(\" \")"
   ]
  },
  {
   "cell_type": "code",
   "execution_count": 12,
   "id": "4f22e702-e13a-4b89-b92a-a29e25ab075d",
   "metadata": {},
   "outputs": [
    {
     "data": {
      "text/plain": [
       "'Hello there'"
      ]
     },
     "execution_count": 12,
     "metadata": {},
     "output_type": "execute_result"
    }
   ],
   "source": [
    "str"
   ]
  },
  {
   "cell_type": "code",
   "execution_count": 15,
   "id": "9b2ce63b-4a33-4c7c-beac-5233f1ac1810",
   "metadata": {},
   "outputs": [],
   "source": [
    "string=\"MX1212\""
   ]
  },
  {
   "cell_type": "code",
   "execution_count": 16,
   "id": "e2e0992a-e969-43fa-b3f7-658ed38fc1a0",
   "metadata": {},
   "outputs": [],
   "source": [
    "str=string.find(\"MX\")"
   ]
  },
  {
   "cell_type": "code",
   "execution_count": 17,
   "id": "736b49fd-7766-44d8-ad7b-54507129727b",
   "metadata": {},
   "outputs": [
    {
     "data": {
      "text/plain": [
       "0"
      ]
     },
     "execution_count": 17,
     "metadata": {},
     "output_type": "execute_result"
    }
   ],
   "source": [
    "str"
   ]
  },
  {
   "cell_type": "code",
   "execution_count": 18,
   "id": "8475e8c5-1824-456a-9f9b-0f20df6e0939",
   "metadata": {},
   "outputs": [
    {
     "data": {
      "text/plain": [
       "'DX1212'"
      ]
     },
     "execution_count": 18,
     "metadata": {},
     "output_type": "execute_result"
    }
   ],
   "source": [
    "replaced=string.replace(\"MX\",\"DX\")\n",
    "replaced"
   ]
  },
  {
   "cell_type": "code",
   "execution_count": 19,
   "id": "c3e9f583-8f57-4076-87d4-1714e6600054",
   "metadata": {},
   "outputs": [],
   "source": [
    "string=\"Python is a Funny language\""
   ]
  },
  {
   "cell_type": "code",
   "execution_count": 20,
   "id": "1da21146-8c0b-453d-a43b-a535d1229dd1",
   "metadata": {},
   "outputs": [],
   "source": [
    "Capital=string.upper()"
   ]
  },
  {
   "cell_type": "code",
   "execution_count": 21,
   "id": "af7c44bd-637f-492f-baf8-160d5c8650c1",
   "metadata": {},
   "outputs": [
    {
     "data": {
      "text/plain": [
       "'PYTHON IS A FUNNY LANGUAGE'"
      ]
     },
     "execution_count": 21,
     "metadata": {},
     "output_type": "execute_result"
    }
   ],
   "source": [
    "Capital"
   ]
  },
  {
   "cell_type": "code",
   "execution_count": 22,
   "id": "9b164bb3-32fe-4c06-9c82-2d5fb7d7a5f2",
   "metadata": {},
   "outputs": [],
   "source": [
    "lower=string.lower()"
   ]
  },
  {
   "cell_type": "code",
   "execution_count": 23,
   "id": "dd242376-d0c1-4d12-be4b-1e64ec80c817",
   "metadata": {},
   "outputs": [
    {
     "data": {
      "text/plain": [
       "'python is a funny language'"
      ]
     },
     "execution_count": 23,
     "metadata": {},
     "output_type": "execute_result"
    }
   ],
   "source": [
    "lower"
   ]
  },
  {
   "cell_type": "code",
   "execution_count": 29,
   "id": "09b313b6-da24-4e8e-9c13-7559855a6574",
   "metadata": {},
   "outputs": [
    {
     "data": {
      "text/plain": [
       "5"
      ]
     },
     "execution_count": 29,
     "metadata": {},
     "output_type": "execute_result"
    }
   ],
   "source": [
    "len(string.split())\n"
   ]
  },
  {
   "cell_type": "code",
   "execution_count": 28,
   "id": "a9dcc24a-17a0-4f78-9ea1-52251f93028b",
   "metadata": {},
   "outputs": [
    {
     "data": {
      "text/plain": [
       "0"
      ]
     },
     "execution_count": 28,
     "metadata": {},
     "output_type": "execute_result"
    }
   ],
   "source": [
    "count"
   ]
  },
  {
   "cell_type": "code",
   "execution_count": 44,
   "id": "d006fa56-9a85-4d9d-a439-3040e995fe9b",
   "metadata": {},
   "outputs": [],
   "source": [
    "stir = \"abc\""
   ]
  },
  {
   "cell_type": "code",
   "execution_count": 45,
   "id": "7d422cd7-d4d7-4a83-bcde-d77b1f6dc0d2",
   "metadata": {},
   "outputs": [
    {
     "ename": "TypeError",
     "evalue": "'int' object is not callable",
     "output_type": "error",
     "traceback": [
      "\u001b[1;31m---------------------------------------------------------------------------\u001b[0m",
      "\u001b[1;31mTypeError\u001b[0m                                 Traceback (most recent call last)",
      "Cell \u001b[1;32mIn[45], line 1\u001b[0m\n\u001b[1;32m----> 1\u001b[0m result\u001b[38;5;241m=\u001b[39m\u001b[38;5;28mlist\u001b[39m(stir)\n\u001b[0;32m      2\u001b[0m \u001b[38;5;28mprint\u001b[39m(result)\n",
      "\u001b[1;31mTypeError\u001b[0m: 'int' object is not callable"
     ]
    }
   ],
   "source": [
    "result=list(stir)\n",
    "print(result)"
   ]
  },
  {
   "cell_type": "code",
   "execution_count": 46,
   "id": "c9eea181-2ab3-49b3-b095-dad48737dbe6",
   "metadata": {},
   "outputs": [],
   "source": [
    "my_str=\"abc\""
   ]
  },
  {
   "cell_type": "code",
   "execution_count": 47,
   "id": "6fa4d795-20dd-4470-9e43-2c06cb90071a",
   "metadata": {},
   "outputs": [
    {
     "ename": "TypeError",
     "evalue": "'int' object is not callable",
     "output_type": "error",
     "traceback": [
      "\u001b[1;31m---------------------------------------------------------------------------\u001b[0m",
      "\u001b[1;31mTypeError\u001b[0m                                 Traceback (most recent call last)",
      "Cell \u001b[1;32mIn[47], line 1\u001b[0m\n\u001b[1;32m----> 1\u001b[0m result\u001b[38;5;241m=\u001b[39m\u001b[38;5;28mlist\u001b[39m(my_str)\n",
      "\u001b[1;31mTypeError\u001b[0m: 'int' object is not callable"
     ]
    }
   ],
   "source": [
    "result=list(my_str)"
   ]
  },
  {
   "cell_type": "code",
   "execution_count": 48,
   "id": "70723e55-df45-4327-9510-ba415d9c4f94",
   "metadata": {},
   "outputs": [
    {
     "ename": "TypeError",
     "evalue": "'int' object is not callable",
     "output_type": "error",
     "traceback": [
      "\u001b[1;31m---------------------------------------------------------------------------\u001b[0m",
      "\u001b[1;31mTypeError\u001b[0m                                 Traceback (most recent call last)",
      "Cell \u001b[1;32mIn[48], line 5\u001b[0m\n\u001b[0;32m      2\u001b[0m my_string \u001b[38;5;241m=\u001b[39m \u001b[38;5;124m\"\u001b[39m\u001b[38;5;124mabc\u001b[39m\u001b[38;5;124m\"\u001b[39m\n\u001b[0;32m      4\u001b[0m \u001b[38;5;66;03m# Convert to list\u001b[39;00m\n\u001b[1;32m----> 5\u001b[0m result \u001b[38;5;241m=\u001b[39m \u001b[38;5;28mlist\u001b[39m(my_string)\n\u001b[0;32m      7\u001b[0m \u001b[38;5;66;03m# Print the result\u001b[39;00m\n\u001b[0;32m      8\u001b[0m \u001b[38;5;28mprint\u001b[39m(result)\n",
      "\u001b[1;31mTypeError\u001b[0m: 'int' object is not callable"
     ]
    }
   ],
   "source": [
    "# Use a different variable name instead of str\n",
    "my_string = \"abc\"\n",
    "\n",
    "# Convert to list\n",
    "result = list(my_string)\n",
    "\n",
    "# Print the result\n",
    "print(result)\n"
   ]
  },
  {
   "cell_type": "code",
   "execution_count": 49,
   "id": "b6dac979-d46f-4c24-bf6d-f49a89552783",
   "metadata": {},
   "outputs": [],
   "source": [
    "list=[1,2,3,2,42,52,52,2,22,22,22,22,2,2222,222,2,22,2,2]"
   ]
  },
  {
   "cell_type": "code",
   "execution_count": 50,
   "id": "4b65592b-2c61-405b-a869-4ec0ae6d5fc1",
   "metadata": {},
   "outputs": [],
   "source": [
    "Set=set(list)"
   ]
  },
  {
   "cell_type": "code",
   "execution_count": 51,
   "id": "19666425-630c-4151-b22f-5c8d53698f3f",
   "metadata": {},
   "outputs": [
    {
     "data": {
      "text/plain": [
       "{1, 2, 3, 22, 42, 52, 222, 2222}"
      ]
     },
     "execution_count": 51,
     "metadata": {},
     "output_type": "execute_result"
    }
   ],
   "source": [
    "Set"
   ]
  },
  {
   "cell_type": "code",
   "execution_count": 54,
   "id": "eb769689-08fd-4411-83cb-5be6ea7355f4",
   "metadata": {},
   "outputs": [],
   "source": [
    "string=\"Hello Dhammadeep, how are you today. Hope you are having a great day!\""
   ]
  },
  {
   "cell_type": "code",
   "execution_count": 58,
   "id": "775a8c1a-370b-48d9-9f84-d17d80675b84",
   "metadata": {},
   "outputs": [
    {
     "data": {
      "text/plain": [
       "6"
      ]
     },
     "execution_count": 58,
     "metadata": {},
     "output_type": "execute_result"
    }
   ],
   "source": [
    "string.count('o')"
   ]
  },
  {
   "cell_type": "code",
   "execution_count": 69,
   "id": "b43ff41f-20b7-4aae-8a08-b1d357125b78",
   "metadata": {},
   "outputs": [],
   "source": [
    "string='hello'"
   ]
  },
  {
   "cell_type": "code",
   "execution_count": 70,
   "id": "ca648e77-dec0-4eb4-ba31-4d4386a5bb94",
   "metadata": {},
   "outputs": [
    {
     "data": {
      "text/plain": [
       "True"
      ]
     },
     "execution_count": 70,
     "metadata": {},
     "output_type": "execute_result"
    }
   ],
   "source": [
    "string.isalpha()"
   ]
  },
  {
   "cell_type": "code",
   "execution_count": 74,
   "id": "27bcaf71-1a6f-416f-bf58-e878c2ade32a",
   "metadata": {},
   "outputs": [],
   "source": [
    "string=\"Hello there, how are   you   im    fine  you   food\""
   ]
  },
  {
   "cell_type": "code",
   "execution_count": 78,
   "id": "f315b63f-4c9a-4e32-b9ab-374538324754",
   "metadata": {},
   "outputs": [
    {
     "data": {
      "text/plain": [
       "['Hello there', ' how are   you   im    fine  y ou   food']"
      ]
     },
     "execution_count": 78,
     "metadata": {},
     "output_type": "execute_result"
    }
   ],
   "source": [
    "string.split(',')"
   ]
  },
  {
   "cell_type": "code",
   "execution_count": null,
   "id": "eddf15a4-5700-4cfd-9cb7-9a484cfb0514",
   "metadata": {},
   "outputs": [],
   "source": []
  }
 ],
 "metadata": {
  "kernelspec": {
   "display_name": "Python 3 (ipykernel)",
   "language": "python",
   "name": "python3"
  },
  "language_info": {
   "codemirror_mode": {
    "name": "ipython",
    "version": 3
   },
   "file_extension": ".py",
   "mimetype": "text/x-python",
   "name": "python",
   "nbconvert_exporter": "python",
   "pygments_lexer": "ipython3",
   "version": "3.11.7"
  }
 },
 "nbformat": 4,
 "nbformat_minor": 5
}
